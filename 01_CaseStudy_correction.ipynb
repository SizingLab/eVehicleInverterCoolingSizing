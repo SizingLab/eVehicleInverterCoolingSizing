{
 "cells": [
  {
   "cell_type": "markdown",
   "metadata": {},
   "source": [
    "<img src=\"./01/logo-insa.png\" style=\"float:right; max-width: 60px; display: inline\" alt=\"INSA\" /></a>\n"
   ]
  },
  {
   "cell_type": "markdown",
   "metadata": {},
   "source": [
    "# Case study and system architecture\n",
    "\n",
    "*Written by Marc Budinger, INSA Toulouse, France*\n",
    "\n",
    "Before sizing a system, it is important to define all the constraints that could have an influence on the design. It is therefore advisable to list meticulously:\n",
    "- the power components to size in the architecture \n",
    "- criteria and parameters useful for the selection of components \n",
    "- system usage scenarios that can a effect the selection of components\n",
    "This is the target of this notebook."
   ]
  },
  {
   "cell_type": "markdown",
   "metadata": {},
   "source": [
    "### 1. Electric powertrain for last miles deliveries vehicles\n",
    "\n",
    "This project aims to explore the opportunities offered by the development of an electric traction chain for a light commercial vehicle dedicated to carry out last mile delivery logistics in city centers. Last miles deliveries vehicles will go electric in the next future, this is part of most authorities willing to limit emissions as E-Commerce is growing. We have chosen to base the project on an electric version of the widely spread  [Daily IVECO Van Euro 6](https://www.iveco.com/DailyBusiness/img/doc/BTS_L1612301MASTER_05-16.pdf). The geometrical characteristics are kept but the electric version is assumed to be 1000kg heavier. \n",
    "\n",
    "*Daily IVECO Van Euro 6*  \n",
    "![IVECO](./01/IVECO_Van6.png)\n",
    "\n",
    "Electric powertrain for Electric light commercial vehicle are based on: \n",
    "- a battery power pack\n",
    "- a permanent-magnet synchronous motor (PMSM) \n",
    "- an inverter that control power flow between the battery pack and the motor\n",
    "- a vehicule control unit (EVCU) that interfaces the drive train and the vehicle equipments.\n",
    "- a cooling system \n",
    "\n",
    "*Motor+Inverter+EVCU of ([ACTIA](https://electromobility.actia.com/light-commercial-vehicle/))*  \n",
    "![MotorInverter](./01/MotorInverter.png)\n",
    "\n",
    "*Nissan Leaf cutaway showing part of the battery pack*  \n",
    "![BatteryPack](./01/BatteryPack_Nissan_Leaf.jpg)\n",
    "\n",
    "*Audi quattro hybrid cooling system*  \n",
    "![CoolingSystem](./01/thermal_management_audi.jpg)\n",
    "\n"
   ]
  },
  {
   "cell_type": "markdown",
   "metadata": {},
   "source": [
    "### 2. Inverter and cooling system\n",
    "\n",
    "The project will focus more precisely on sizing the inverter and its cooling system. We will assume that the engine and the battery pack already defined. We will alse assumed that the cooling system of the inverter independent of that of the battery and the motor. On the following video links you will be able to better understand the possible arrangements :\n",
    "\n",
    "*for cooling system loops*\n",
    "- for the [Toyota Prius Eco hybrid (2017)](https://www.youtube.com/watch?v=LTxGlUDcTDs&t=1391s) with a two section radiator, two-speed fans, inverter electric water pump and coolant reservoir.\n",
    "- [here](https://www.youtube.com/watch?v=_ILkLUE3Zxc) see the coolant system loops of the Chevrolet Bolt EV high voltage system. \n",
    "Architecture convertisseurs\n",
    "\n",
    "*for power converters modules*  \n",
    "\n",
    "- for the Toyota Prius: [here](https://www.youtube.com/watch?v=qcW08Mh-eIc&t=1595s) the cooling of the DC-DC converter and [here](https://www.youtube.com/watch?v=qcW08Mh-eIc&t=2100s) the IGBT inverter (with DC capacitor and discharge resistor).  \n",
    "- and [here](https://youtu.be/Y7Vm-C4MsW8?list=PLIn3FrDiB1lwNlNc1FhlzmMdTJ3PWw9fc&t=4817) an other configuration with a unique cold plate. \n",
    "\n",
    "Equivalent information can be found in this [report](https://info.ornl.gov/sites/publications/files/Pub26762.pdf): *Evaluation of the 2010 toyota prius hybrid synergy drive system* form US department of Energy. \n",
    "\n",
    "\n",
    "> In the rest of this notebook:\n",
    "> - represent the Work Breakdown Structure(WBS) of a complete electric powertrain. Represent on this graph the components that you will have to select.\n",
    "> - define the design drivers (max performances, gradual degradations, imperfection) of these components\n",
    "> - propose system usage scenarios that can affect the selection of components"
   ]
  },
  {
   "cell_type": "markdown",
   "metadata": {},
   "source": [
    "\n",
    "*Work Breakdown Structure of electric powertrain* \n",
    "![WBS](./01/wbs.jpg)"
   ]
  },
  {
   "cell_type": "markdown",
   "metadata": {},
   "source": [
    "*Components driver design*  \n",
    "![TAB](./01/tab.png)"
   ]
  },
  {
   "cell_type": "code",
   "execution_count": null,
   "metadata": {},
   "outputs": [],
   "source": []
  },
  {
   "cell_type": "code",
   "execution_count": null,
   "metadata": {},
   "outputs": [],
   "source": []
  }
 ],
 "metadata": {
  "kernelspec": {
   "display_name": "Python 3",
   "language": "python",
   "name": "python3"
  },
  "language_info": {
   "codemirror_mode": {
    "name": "ipython",
    "version": 3
   },
   "file_extension": ".py",
   "mimetype": "text/x-python",
   "name": "python",
   "nbconvert_exporter": "python",
   "pygments_lexer": "ipython3",
   "version": "3.8.3"
  }
 },
 "nbformat": 4,
 "nbformat_minor": 4
}
