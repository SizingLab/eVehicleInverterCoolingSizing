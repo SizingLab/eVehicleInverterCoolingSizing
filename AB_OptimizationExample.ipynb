{
 "cells": [
  {
   "cell_type": "markdown",
   "metadata": {
    "slideshow": {
     "slide_type": "slide"
    }
   },
   "source": [
    "<img src=\"./01/logo-insa.png\" style=\"float:right; max-width: 60px; display: inline\" alt=\"SizingLab\" /></a>"
   ]
  },
  {
   "cell_type": "markdown",
   "metadata": {
    "slideshow": {
     "slide_type": "slide"
    }
   },
   "source": [
    "# Example of a generic sizing code\n",
    "*Written by Marc Budinger (INSA Toulouse) and Scott Delbecq (ISAE-SUPAERO), Toulouse, France.*"
   ]
  },
  {
   "cell_type": "markdown",
   "metadata": {
    "slideshow": {
     "slide_type": "slide"
    }
   },
   "source": [
    "### Main problems to be solved\n",
    "\n",
    "In general, the establishment of a sizing procedure involves the resolution of the following 3 problems:\n",
    "* a set of equations sub-constrained by the addition of a design variable in the optimization problem;\n",
    "* an over-constrained variable by adding a design variable (multiplier) and the transfer of the excess equation(s) in the constrained part of the optimization problem;\n",
    "* an algebraic loop by the use of a simplified equation weighted by a multiplying coefficient and a constraint representing the initial equation.\n"
   ]
  },
  {
   "cell_type": "markdown",
   "metadata": {
    "slideshow": {
     "slide_type": "slide"
    }
   },
   "source": [
    "### Caution for the optimizer\n",
    "\n",
    "Where possible:\n",
    "* the design variables must take the form of a normalized variable around 1 (oversize coef. for example) or easily bounded to facilitate the work of the optimizer.\n",
    "* the constraints must take the form of inequality and not of equality which often introduce numerical difficulties. The optimization of the objective (for example the total mass) will certainly force some (active) constraints to come to an end. "
   ]
  },
  {
   "cell_type": "markdown",
   "metadata": {},
   "source": [
    "### Example of generic sizing code\n",
    "\n",
    "Below, you will find an example of an optimization code to solve the following problem.  \n",
    "\n",
    ">For a tank of $x,y,z$ dimensions with $x\\in[0.1,1]$, $y\\in[0.1,1]$ and $z\\in[0.1,2.5]$ m:   \n",
    "Minimize the surface $xy+2z(x+y)$ \n",
    "and \n",
    "respect the constraints      \n",
    " - volume $xyz$ bigger than 200 l.  \n",
    " - developped dimensions $2z+x$ and $2z+y$ lower than 1.5m for machining feasability.  \n",
    "   \n",
    "First work is to define a `SizingCode` function which enables:\n",
    "- to calculate the objective to minimize\n",
    "- to calculate the constraints\n",
    "- to print the results\n"
   ]
  },
  {
   "cell_type": "code",
   "execution_count": 4,
   "metadata": {},
   "outputs": [],
   "source": [
    "import pandas as pd\n",
    "\n",
    "import ipywidgets as widgets\n",
    "from ipywidgets import interactive\n",
    "\n",
    "pd.options.display.float_format = '{:,.2f}'.format\n",
    "\n",
    "\n",
    "# -----------------------\n",
    "# sizing code\n",
    "# -----------------------\n",
    "# inputs: \n",
    "# - param: optimisation variables vector (reduction ratio, oversizing coefficient)\n",
    "# - arg: selection of output  \n",
    "# output: \n",
    "# - objective if arg='Obj', problem characteristics if arg='Prt', constraints other else\n",
    "\n",
    "def SizingCode(param, arg):\n",
    "# Design variables in param\n",
    "# ---\n",
    "    x = param[0] # variable x\n",
    "    y = param[1] # variable y \n",
    "    z = param[2] # variable z\n",
    "    \n",
    "# Calculus \n",
    "# ---\n",
    "    volume = x*y*z\n",
    "    surface = x*y+2*(x+y)*z\n",
    "        \n",
    "# Objective and Constraints sum up\n",
    "# ---\n",
    "    objective = surface\n",
    "    \n",
    "    constraints = [volume\n",
    "                   -.2,\n",
    "                   1.5-(2*z+x),\n",
    "                   1.5-(2*z+y) ]\n",
    "    \n",
    "# Returns selection\n",
    "# -------------------\n",
    "    if arg == 'Obj':\n",
    "        return objective\n",
    "    \n",
    "    elif arg == 'ObjP':\n",
    "        P = 0. # Penalisation nulle\n",
    "        for C in constraints: \n",
    "            if (C < 0.): \n",
    "                P = P-1e9*C\n",
    "        return objective + P # Return penalized objective \n",
    "\n",
    "\n",
    "    elif arg=='Prt':\n",
    "    # the data to print a defined into a Pandas dataframe\n",
    "        col_names = ['Type', 'Name', 'Value', 'Unit', 'Comment']\n",
    "\n",
    "        df = pd.DataFrame()\n",
    "    \n",
    "      \n",
    "        df = df.append([{'Type': 'Objective', 'Name': 'Surface', 'Value': objective, 'Unit': '[m^2]', 'Comment': 'Mini surface'}])[col_names]\n",
    "        df = df.append([{'Type': 'Constraints', 'Name': 'Const 1', 'Value': constraints[0], 'Unit': '[m^3]', 'Comment': 'Volume'}])[col_names]\n",
    "        df = df.append([{'Type': 'Constraints', 'Name': 'Const 2', 'Value': constraints[1], 'Unit': '[m]', 'Comment': 'Developped length'}])[col_names]\n",
    "        df = df.append([{'Type': 'Constraints', 'Name': 'Const 3', 'Value': constraints[2], 'Unit': '[m]', 'Comment': 'Developped length'}])[col_names]\n",
    "        df = df.append([{'Type': 'Variables', 'Name': 'x', 'Value': x, 'Unit': '[m]', 'Comment': 'x'}])[col_names]\n",
    "        df = df.append([{'Type': 'Variables', 'Name': 'y', 'Value': y, 'Unit': '[m]', 'Comment': 'y'}])[col_names]\n",
    "        df = df.append([{'Type': 'Variables', 'Name': 'z', 'Value': z, 'Unit': '[m]', 'Comment': 'z'}])[col_names]\n",
    "        df = df.append([{'Type': 'Tank', 'Name': 'Volume', 'Value': volume, 'Unit': '[m^3]', 'Comment': 'Tank volume'}])[col_names]\n",
    "        df = df.append([{'Type': 'Tank', 'Name': 'Surface', 'Value': surface, 'Unit': '[m^2]', 'Comment': 'Tank surface'}])[col_names]\n",
    "        df = df.append([{'Type': 'Tank', 'Name': 'Developped length', 'Value': 2*z+x, 'Unit': '[m]', 'Comment': 'x length'}])[col_names]        \n",
    "        df = df.append([{'Type': 'Tank', 'Name': 'Developped length', 'Value': 2*z+y, 'Unit': '[m]', 'Comment': 'y length'}])[col_names]\n",
    "\n",
    "    # the dataframe is then organised to be printed with interactive widgets\n",
    "        items = sorted(df['Type'].unique().tolist())\n",
    "\n",
    "        def f(Type):\n",
    "            return df[df['Type']==Type] \n",
    "        widgets.interact(f, Type=items)\n",
    "        return f\n",
    "        \n",
    "    else:\n",
    "        return constraints"
   ]
  },
  {
   "cell_type": "markdown",
   "metadata": {},
   "source": [
    "### Optimization algorithms\n",
    "\n",
    "We will now use the [optimization algorithms](https://docs.scipy.org/doc/scipy/reference/optimize.html) of the Scipy package to solve and optimize the configuration. We use here the SLSQP algorithm without explicit expression of the gradient (Jacobian). For global evaluation of the solution, you can use the differential evolution algorithm.\n"
   ]
  },
  {
   "cell_type": "code",
   "execution_count": 7,
   "metadata": {},
   "outputs": [
    {
     "data": {
      "text/html": [
       "<div>\n",
       "<style scoped>\n",
       "    .dataframe tbody tr th:only-of-type {\n",
       "        vertical-align: middle;\n",
       "    }\n",
       "\n",
       "    .dataframe tbody tr th {\n",
       "        vertical-align: top;\n",
       "    }\n",
       "\n",
       "    .dataframe thead th {\n",
       "        text-align: right;\n",
       "    }\n",
       "</style>\n",
       "<table border=\"1\" class=\"dataframe\">\n",
       "  <thead>\n",
       "    <tr style=\"text-align: right;\">\n",
       "      <th></th>\n",
       "      <th>Type</th>\n",
       "      <th>Name</th>\n",
       "      <th>Value</th>\n",
       "      <th>Unit</th>\n",
       "      <th>Comment</th>\n",
       "    </tr>\n",
       "  </thead>\n",
       "  <tbody>\n",
       "    <tr>\n",
       "      <th>0</th>\n",
       "      <td>Constraints</td>\n",
       "      <td>Const 1</td>\n",
       "      <td>-0.00</td>\n",
       "      <td>[m^3]</td>\n",
       "      <td>Volume</td>\n",
       "    </tr>\n",
       "    <tr>\n",
       "      <th>0</th>\n",
       "      <td>Constraints</td>\n",
       "      <td>Const 2</td>\n",
       "      <td>0.03</td>\n",
       "      <td>[m]</td>\n",
       "      <td>Developped length</td>\n",
       "    </tr>\n",
       "    <tr>\n",
       "      <th>0</th>\n",
       "      <td>Constraints</td>\n",
       "      <td>Const 3</td>\n",
       "      <td>0.03</td>\n",
       "      <td>[m]</td>\n",
       "      <td>Developped length</td>\n",
       "    </tr>\n",
       "  </tbody>\n",
       "</table>\n",
       "</div>"
      ],
      "text/plain": [
       "          Type     Name  Value   Unit            Comment\n",
       "0  Constraints  Const 1  -0.00  [m^3]             Volume\n",
       "0  Constraints  Const 2   0.03    [m]  Developped length\n",
       "0  Constraints  Const 3   0.03    [m]  Developped length"
      ]
     },
     "metadata": {},
     "output_type": "display_data"
    },
    {
     "name": "stdout",
     "output_type": "stream",
     "text": [
      "-----------------------------------------------\n"
     ]
    }
   ],
   "source": [
    "import scipy\n",
    "import scipy.optimize\n",
    "\n",
    "# Optimization algorithm choice\n",
    "SLSQP = True\n",
    "\n",
    "# Vector of initial parameters\n",
    "parameters = scipy.array((1,1,1))\n",
    "\n",
    "# Optimization with SLSQP algorithm: definition of requested functions\n",
    "contrainte = lambda x: SizingCode(x, 'Const')\n",
    "objectif = lambda x: SizingCode(x, 'Obj')\n",
    "\n",
    "# Optimization with differential evolution algorithm\n",
    "objectifP = lambda x: SizingCode(x, 'ObjP')\n",
    "\n",
    "# Optimization bounds\n",
    "bounds = [(.1,1), (.1,1), (0.1,2.5)]\n",
    "\n",
    "# Optimisation\n",
    "if SLSQP == True:\n",
    "    # SLSQP optimisation\n",
    "    result = scipy.optimize.fmin_slsqp(func=objectif, x0=parameters, bounds=bounds,f_ieqcons=contrainte, iter=1500, acc=1e-12)\n",
    "    \n",
    "else:\n",
    "    # Differential evolution omptimisation\n",
    "    result = scipy.optimize.differential_evolution(func=objectifP,\n",
    "                                   bounds=bounds,\n",
    "                                   tol=1e-12)\n",
    "\n",
    "\n",
    "# Final characteristics after optimization \n",
    "print(\"-----------------------------------------------\")\n",
    "print(\"Final characteristics after optimization :\")\n",
    "\n",
    "if SLSQP == True:\n",
    "    #SizingCode(result,'Obj')\n",
    "    SizingCode(result, 'Prt')\n",
    "else:\n",
    "    #SizingCode(result.x,'Obj')\n",
    "    SizingCode(result.x, 'Prt')\n",
    "print(\"-----------------------------------------------\")\n"
   ]
  },
  {
   "cell_type": "code",
   "execution_count": null,
   "metadata": {},
   "outputs": [],
   "source": []
  }
 ],
 "metadata": {
  "kernelspec": {
   "display_name": "Python 3",
   "language": "python",
   "name": "python3"
  },
  "language_info": {
   "codemirror_mode": {
    "name": "ipython",
    "version": 3
   },
   "file_extension": ".py",
   "mimetype": "text/x-python",
   "name": "python",
   "nbconvert_exporter": "python",
   "pygments_lexer": "ipython3",
   "version": "3.8.3"
  }
 },
 "nbformat": 4,
 "nbformat_minor": 4
}
