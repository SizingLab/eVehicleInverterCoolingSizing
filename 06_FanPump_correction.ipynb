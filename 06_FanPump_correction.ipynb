{
 "cells": [
  {
   "cell_type": "markdown",
   "metadata": {},
   "source": [
    "<img src=\"./pictures/logo-insa.png\" style=\"float:right; max-width: 60px; display: inline\" alt=\"INSA\" />"
   ]
  },
  {
   "cell_type": "markdown",
   "metadata": {},
   "source": [
    "# Pump and Fan\n",
    " \n",
    "*Written by Marc Budinger, INSA Toulouse, France*"
   ]
  },
  {
   "cell_type": "markdown",
   "metadata": {},
   "source": [
    "The selection of fan and pump depends on the required cooling capabilities and the pressure drop characteristics. In order to select a suitable component, a model linking the size, its performances and the pressure is required. Such type of model, called [similarity of affinity laws](https://en.wikipedia.org/wiki/Affinity_laws), can be established using dimensional analysis , [Buckingham theorem](http://www.astro.yale.edu/coppi/astro520/buckingham_pi/Buckinghamforlect1.pdf)  and linear regression. "
   ]
  },
  {
   "cell_type": "markdown",
   "metadata": {},
   "source": [
    "The pump and the fan have the same behaviour and follow the same equations :\n",
    "- it exists a relation between the differential pressure created $dP$ and the flow rate $Q$. \n",
    "- $dP$ and $Q$ depends on the velocity of the blades : $\\frac{dP_1}{dP_2}=\\big(\\frac{n_1}{n_2}\\big)^2$ and $\\frac{Q_1}{Q_2}=\\frac{n_1}{n_2}$\n",
    "- the differential pressure created is equal to the system pressure drop and sets the flow rate.\n",
    "\n",
    "*Fan and pump Pressure/Flow curves from [Rockwell automation](https://literature.rockwellautomation.com/idc/groups/literature/documents/wp/drives-wp009_-en-p.pdf)*  \n",
    "<img src=\"06/FanCurve.png\" width=\"300\">\n",
    "\n"
   ]
  },
  {
   "cell_type": "markdown",
   "metadata": {},
   "source": [
    "## 1. Axial-Fan\n",
    "\n",
    "The fan ensures a minimum air flow rate passing through the radiator in order to cool the coolant while overcoming the pressure drop of the radiator.  We will illustrate the modeling approach on a axial-fan family taken from the SPAL catalog ([doc1](https://www.spalautomotive.it/documents/20182/35726/brushless_catalogue.pdf/011138a9-0a3f-4ada-9dc6-31560ef69104), [doc2](https://www.spalautomotive.it/documents/20182/35726/axial_general_catalogue.pdf/865e2f61-813e-4725-ab8f-953a937eea9b)) \n",
    "\n",
    "*Axial-fan*  \n",
    "<img src=\"06/Fan.png\" width=\"700\">\n",
    "\n",
    "#### 1.1. Dimensional analysis\n",
    "\n",
    "The pressure drop of a fan $ΔP$ depends on the flow rate $Q$, the density of air $ρ$, the coefficient of compressibility $\\beta$, the rotational speed of the fan $ω$, the diameter and the thickness of the fan $D_{fan}$ and $e_{fan}$ respectively. The following table gives the corresponding dimensional matrix."
   ]
  },
  {
   "cell_type": "markdown",
   "metadata": {},
   "source": [
    "|    |  M| L | T|\n",
    "|---|---|---|---|\n",
    "|      $\\Delta P$|   1| -2| -2|\n",
    "|      $Q$|   0| 3| -1|\n",
    "|     $\\omega$\t|   0|   0|   -1|\n",
    "|      $D_{fan}$\t|   0| 1| 0|\n",
    "|      $\\rho$\t|   1| -3| 0|\n",
    "|      $\\beta$\t|  -1| 2| 2|\n",
    "|    $e_{fan}$| 0| 1| 0|\n"
   ]
  },
  {
   "cell_type": "markdown",
   "metadata": {},
   "source": [
    "> **Question:** Determine, thanks the Buckingham theorem, the number of dimensionless $\\pi$ variables. Complete the dimensional matrix with judicious $\\pi$ variables. Use as repetive variables $\\rho$, $\\omega$ and $D_{fan}$."
   ]
  },
  {
   "cell_type": "markdown",
   "metadata": {},
   "source": [
    "**Answer**:  \n",
    "The problem can be written as: $ΔP=f(Q, ρ,ω,D_{fan},\\beta,e_{fan})$  \n",
    "and involves 7 parameters, 3 dimensions and thus 4 $\\pi$ dimensionless numbers.\n",
    "\n",
    "The problem can thus be rewritten as : $π_{ΔP}=f(π_Q,π_e, π_{\\beta})$  \n",
    "\n",
    "with the dimentional matrix:\n",
    "\n",
    "|    |  M| L | T|\n",
    "|---|---|---|---|\n",
    "|      $\\Delta P$|   1| -1| -2|\n",
    "|      $Q$|   0| 3| -1|\n",
    "|     $\\omega$\t|   0|   0|   -1|\n",
    "|      $D_{fan}$\t|   0| 1| 0|\n",
    "|      $\\rho$\t|   1| -3| 0|\n",
    "|      $\\beta$\t|  1| -1| 2|\n",
    "|    $e_{fan}$| 0| 1| 0|\n",
    "|    $π_{ΔP}=\\frac{\\Delta P}{\\rho D_{fan}^2 \\omega^2}$| 0| 0| 0|\n",
    "|    $π_Q=\\frac{Q}{D_{fan}^3 \\omega}$| 0| 0| 0|\n",
    "|    $π_e=\\frac{e_{fan}}{D_{fan}}$| 0| 0| 0|\n",
    "|    $ π_{\\beta}=\\frac{\\beta}{\\rho \\omega^2 D_{fan}^2}$| 0| 0| 0|"
   ]
  },
  {
   "cell_type": "markdown",
   "metadata": {},
   "source": [
    "#### 1.2. Scaling laws \n",
    "\n",
    "We will assume here that the mass and the bulk come mainly from the aerodynamic part of the fan. We will overlook the effect of motorization in building our relationships.\n",
    "\n",
    "> **Questions:** \n",
    "> - Suggest a grouping of the pi numbers previously developed, assuming that the superposition of 2 fans doubles the maximum pressure but not the maximum flow.\n",
    "> - Propose a scaling law for the maximum rotational speed, assuming that blade tip speed have to be lower to a fraction of [speed of sound](https://en.wikipedia.org/wiki/Speed_of_sound).\n",
    "\n"
   ]
  },
  {
   "cell_type": "markdown",
   "metadata": {},
   "source": [
    "**Answers:**\n",
    "    \n",
    " $π_{ΔP}=f(π_Q, π_{\\beta})$  \n",
    " \n",
    "with:\n",
    "\n",
    "The first point mean that an increase of diameter of the fan will increase the flow but not the pressure and an increase of thickness will increase the pressure but not the flow so we can group $π_{ΔP}$ and $π_{e}$ :\n",
    "\n",
    "- $π_{ΔP}=\\frac{ΔP}{ρω^2 D_{fan} e_{fan}}$ ($=\\frac{π_{ΔP}}{π_{e}}$)  \n",
    "\n",
    "- $π_Q=\\frac{Q}{D_{fan}^3ω}$\n",
    "\n",
    "- $π_{\\beta}=\\frac{ρω^{2} D_{fan}^{2}}{\\beta} $\n",
    "\n",
    "For max tip speed : $π_{\\beta}=\\frac{ρω^{2} D_{fan}^{2}}{\\beta}=C^{te} \\Longrightarrow ω^*=D_{fan}^{*-1}$   \n",
    "\n",
    "($π_{\\beta}$ can be seen as the ratio between the speed of sound and the speed at the end of the blades.Therefore we want to keep this quantity constant to avoid breakage)\n",
    "\n",
    "For max efficiency : $π_Q=\\frac{Q}{D_{fan}^3ω}=C^{te} \\Longrightarrow Q^*=D_{fan}^{*2}$  \n",
    "\n",
    "(We want the max efficiency so we have only one value possible for $π_Q$)\n",
    "\n",
    "So finnaly, if all the parameters of f are constant, we can write : \n",
    "\n",
    "$π_{ΔP}=f(π_Q, π_{\\beta})=C^{te} \\Longrightarrow ΔP^*=\\frac{e_{fan}^*}{D_{fan}^*}$  "
   ]
  },
  {
   "cell_type": "markdown",
   "metadata": {},
   "source": [
    "#### 1.3. Numerical application\n",
    "\n",
    "> **Questions:** \n",
    "> - Take as reference the VA99-BBL324P/N-101A/SH fan into the [SPAL catalog]((https://www.spalautomotive.it/documents/20182/35726/brushless_catalogue.pdf/011138a9-0a3f-4ada-9dc6-31560ef69104) and propose a set of relations which allow to determine the main characteristics (diameter, mass, thickness, ...) of a fan according to a need (pressure drop, flow rate). \n",
    "> - Thanks to these relations propose a fan able to produce a Q=0.23 m3/s of air flow rate with a dP=130 Pa of differential pressure. "
   ]
  },
  {
   "cell_type": "markdown",
   "metadata": {},
   "source": [
    "Mass: $M^*=D_{fan}^{*2} e_{fan}^*=D_{fan}^{*3} \\frac{e_{fan}^*}{D_{fan}^*}=Q^{*3/2}ΔP^*$  \n",
    "Diameter: $D_{fan}^*= Q^{*1/2}$  \n",
    "Thickness:  $e_{fan}^*= ΔP^*Q^{*1/2}$"
   ]
  },
  {
   "cell_type": "code",
   "execution_count": 4,
   "metadata": {},
   "outputs": [
    {
     "name": "stdout",
     "output_type": "stream",
     "text": [
      "0.4097222222222222\n",
      "Thickness e = 23 mm\n",
      "Diameter d = 220 mm\n",
      "Mass M = 0.3 kg\n"
     ]
    }
   ],
   "source": [
    "'''Reference fan'''\n",
    "dP_ref = 325       #[Pa] pressure difference\n",
    "Q_ref  = 1475      #[m3/h] flow rate \n",
    "Qref   = Q_ref/3600    #[m3/s]\n",
    "print(Qref)\n",
    "e_ref  = 76.95     #[mm] thickness\n",
    "d_ref  = 293       #[mm] diameter\n",
    "M_ref  = 2         #[kg] mass\n",
    "\n",
    "'''Desired characteristics'''\n",
    "Q  = 0.23          #[m3/s]\n",
    "Q  = Q*3600        #[m3/h]\n",
    "dP = 130           #[Pa]\n",
    "\n",
    "e = e_ref*(dP/dP_ref)*(Q/Q_ref)**(1/2)\n",
    "d = d_ref*(Q/Q_ref)**(1/2)\n",
    "M = M_ref*(Q/Q_ref)**(3/2)*(dP/dP_ref)\n",
    "\n",
    "print(\"Thickness e = %0.0f mm\" %e)\n",
    "print(\"Diameter d = %0.0f mm\" %d)\n",
    "print(\"Mass M = %0.1f kg\" %M)"
   ]
  },
  {
   "cell_type": "markdown",
   "metadata": {},
   "source": [
    "## 2. Pump\n",
    "\n",
    "Electric water pump are composed of:\n",
    "- a centrifugal pump part where the fluid enters axially into the impeller and exists radially into the volute. \n",
    "- a motor part which supply mechanical rotational energy to the impeller.  \n",
    "\n",
    "The difference in inlet and outlet diameter together with a change in blade height creates strong centrifugal forces that imposes the change in total energy in the fluid by raising the pressure and velocity. As seen on the following figure, the motor part contrary to fan can represent an important part of the device.\n",
    "\n",
    "*[Automotive water pump](http://www.brushless-dcmotor.com/sale-10405352-ip67-24vdc-auto-electric-water-pump-for-electric-vehicles-cooling-with-low-noise.html)*  \n",
    "![Pump](http://www.brushless-dcmotor.com/photo/pd18068778-ip67_24vdc_auto_electric_water_pump_for_electric_vehicles_cooling_with_low_noise.jpg)\n",
    "\n",
    "#### 2.1. Dimensional analysis\n",
    "\n",
    "> **Question:** complete dimensional analysis of section 1.1. with efficiency and torque interest variables. "
   ]
  },
  {
   "cell_type": "markdown",
   "metadata": {},
   "source": [
    "Pumps and fans follow the same equations, so $\\Delta P$ also depends on $Q, \\rho, \\omega, D, e, \\beta$. However pumps works with water instead of air. So the effect of the coefficient of compressibility $\\beta$ is not significant anymore and can be neglected. We won't take into account the thickness $e$ of the pump either because we will consider that the pump diameter is the only driving length variable. <br>\n",
    "With these assumptions, we now have 5 variables $\\Delta P, Q, \\rho, \\omega, D$ <br>\n",
    "Thus we have $n - k = 5 - 3 = 2$ dimensionless $\\pi$ variables :  \n",
    "\n",
    "|    |  M| L | T|\n",
    "|---|---|---|---|\n",
    "|      $\\Delta P$|   1| -1| -2|\n",
    "|      $Q$|   0| 3| -1|\n",
    "|     $\\omega$\t|   0|   0|   -1|\n",
    "|      $d$|   0| 1| 0|\n",
    "|      $\\rho$\t|   1| -3| 0|\n",
    "|    $π_{ΔP}=\\frac{\\Delta P}{\\rho D^2 \\omega^2}$| 0| 0| 0|\n",
    "|    $π_Q=\\frac{Q}{D^3 \\omega}$| 0| 0| 0|"
   ]
  },
  {
   "cell_type": "markdown",
   "metadata": {},
   "source": [
    "#### 2.2. Scaling law\n",
    "\n",
    "We will assume :\n",
    "- a complete geometry similarity  \n",
    "- that the pump is working at its maximum efficiency point.  \n",
    "\n",
    "> **Exercice:** In this case, determine the expression of the torque to be supplied to the impeller. Propose a scaling law estimating the mass (mainly of the motor here) as a function of the flow rate and the pressure to be supplied.\n",
    "\n",
    "Take as reference the DC50B-12100 pump of BLDCPump ([BLDCPump catalog](https://www.bldcpump.com/downloads/product-catalog.pdf)).\n",
    "\n",
    "*Water pump reference*  \n",
    "\n",
    "|  | Diameter (mm) | Length (mm) | Mass (g) | Head (m) | Flow rate (l/min) | Max head (m) | Max flow rate (l/min) |\n",
    "| --- | --- | --- | --- | --- | --- | --- | --- |\n",
    "| DC50B-12100 | 53 | 100.5 | 600 | 4.7 | 13 | 10 | 26 |\n"
   ]
  },
  {
   "cell_type": "markdown",
   "metadata": {},
   "source": [
    "Pressure : $π_{ΔP}=f(π_Q)$  \n",
    "with:  \n",
    "- $π_{ΔP}=\\frac{ΔP}{ρω^2 D^2}$\n",
    "- $π_Q=\\frac{Q}{D^3ω}$\n",
    "\n",
    "   \n",
    "Efficiency: $\\mu=f(π_Q)$  \n",
    "with:  \n",
    "- $π_Q=\\frac{Q}{D^3ω}$\n",
    "    \n",
    "Torque: $π_{T}=f(π_Q)$  \n",
    "- $π_{T}=\\frac{T}{ρω^2 D^5}$\n",
    "- $π_Q=\\frac{Q}{D^3ω}$\n",
    "\n",
    "For max efficiency: $π_Q=\\frac{Q}{D^3ω}=C^{te} \\Longrightarrow Q^*=ω^*D^{*3}$  \n",
    "And: $π_{ΔP}=f(π_Q)=C^{te} \\Longrightarrow ΔP^*=ω^{*2} D^{*2}$  \n",
    "And: $π_{T}=f(π_Q)=C^{te} \\Longrightarrow T^*=ω^{*2} D^{*5}$  \n",
    "\n",
    "Pump part:  \n",
    "Diameter: $D^*= ΔP^{*-1/4}Q^{*1/2}$  \n",
    "Speed: $ω^*= ΔP^{*3/4}Q^{*-1/2}$  \n",
    "Torque: $T^*= ΔP^{*1/4}Q^{*3/2}$  \n",
    "\n",
    "Motor part:\n",
    "Mass:  $m^*= T^{*3/3.5}$"
   ]
  },
  {
   "cell_type": "markdown",
   "metadata": {},
   "source": [
    "#### 2.3. Numerical application\n",
    "\n",
    "> **Exercice:** Thanks to these relations propose the a pump able to produce a total pressure drop of 22000 Pa for a flow rate of 10.5 l/min."
   ]
  },
  {
   "cell_type": "code",
   "execution_count": 2,
   "metadata": {},
   "outputs": [
    {
     "name": "stdout",
     "output_type": "stream",
     "text": [
      "Diameter d = 57 mm\n",
      "Mass M = 389 g\n"
     ]
    }
   ],
   "source": [
    "rho = 1000         #[kg/m3] water density\n",
    "g   = 9.81         #[m/s2] gravity\n",
    "\n",
    "'''Reference pump''' \n",
    "H_ref  = 4.7              #[m] head\n",
    "dP_ref = H_ref*rho*g      #[Pa] pressure difference\n",
    "\n",
    "Q_ref  = 13               #[l/min] flow rate \n",
    "Qref   = Q_ref/(1000*60)  #[m3/s]\n",
    "\n",
    "d_ref  = 53               #[mm] diameter\n",
    "M_ref  = 600              #[g] mass\n",
    "\n",
    "'''Desired characteristics'''\n",
    "Q  = 10.5          #[l/min]\n",
    "dP = 22000         #[Pa]\n",
    "\n",
    "d = d_ref*(Q/Q_ref)**(0.5)*(dP/dP_ref)**(-0.25)\n",
    "M = M_ref*(Q/Q_ref)**(9/7)*(dP/dP_ref)**(3/14)\n",
    "\n",
    "print(\"Diameter d = %0.0f mm\" %d)\n",
    "print(\"Mass M = %0.0f g\" %M)"
   ]
  },
  {
   "cell_type": "markdown",
   "metadata": {},
   "source": [
    "## 3. Modelica Model\n",
    "The pump and the fan have the same Modelica model where the $dP=f(Q)$ function is computed by giving 3 operating points.\n"
   ]
  },
  {
   "cell_type": "markdown",
   "metadata": {},
   "source": [
    "> **Exercice:** Update scaling laws and reference in order to define these 3 operating points (no flow, nominal flow, max flow)."
   ]
  },
  {
   "cell_type": "markdown",
   "metadata": {},
   "source": [
    "Until now, we have only considered the operating point at which the efficiency is maximum, i.e. the nominal operating point. Now we want to find a way to compute the maximim pressure drop $\\Delta P_{max}$ and the maxiumum flow rate $Q_{max}$ in order to have 3 operating points. \n",
    "\n",
    "We can simply assume that :\n",
    "- <span style=\"color:blue\">$Q_{max}^* = Q_{nom}^*$</span>\n",
    "- <span style=\"color:blue\">$\\Delta P_{max}^* = \\Delta P_{nom}^*$</span>"
   ]
  },
  {
   "cell_type": "code",
   "execution_count": 3,
   "metadata": {},
   "outputs": [
    {
     "name": "stdout",
     "output_type": "stream",
     "text": [
      "Max pressure difference dPmax = 46809 Pa\n",
      "Max flow rate Qmax = 21 l/min\n"
     ]
    }
   ],
   "source": [
    "'''reference pump'''\n",
    "Qmax_ref  = 26                #[l/min] max flow rate \n",
    "Hmax_ref  = 10                #[m] max head\n",
    "dPmax_ref = Hmax_ref*rho*g    #[Pa] pressure difference\n",
    "\n",
    "Qmax = Qmax_ref*(Q/Q_ref)\n",
    "dPmax = dPmax_ref*(dP/dP_ref)\n",
    "\n",
    "print(\"Max pressure difference dPmax = %0.0f Pa\" %dPmax)\n",
    "print(\"Max flow rate Qmax = %0.0f l/min\" %Qmax)"
   ]
  },
  {
   "cell_type": "code",
   "execution_count": null,
   "metadata": {},
   "outputs": [],
   "source": []
  }
 ],
 "metadata": {
  "kernelspec": {
   "display_name": "Python 3",
   "language": "python",
   "name": "python3"
  },
  "language_info": {
   "codemirror_mode": {
    "name": "ipython",
    "version": 3
   },
   "file_extension": ".py",
   "mimetype": "text/x-python",
   "name": "python",
   "nbconvert_exporter": "python",
   "pygments_lexer": "ipython3",
   "version": "3.8.3"
  }
 },
 "nbformat": 4,
 "nbformat_minor": 4
}
