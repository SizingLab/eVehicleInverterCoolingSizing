{
 "cells": [
  {
   "cell_type": "markdown",
   "metadata": {},
   "source": [
    "<img src=\"./01/logo-insa.png\" style=\"float:right; max-width: 60px; display: inline\" alt=\"INSA\" /></a>"
   ]
  },
  {
   "cell_type": "markdown",
   "metadata": {},
   "source": [
    "# Analysis of sizing scenarios at inverter level\n",
    "\n",
    "*Written by Marc Budinger and Yann Bocquet, INSA Toulouse, France*\n",
    "\n",
    "We are now going to model the different components of the traction chain (wheel, reducer, motor) in order to assess the voltages and currents to be supplied by the inverter. The voltage / current cycles obtained will subsequently make it possible to evaluate the losses within the converter and to manage the thermal sizing constraints."
   ]
  },
  {
   "cell_type": "markdown",
   "metadata": {},
   "source": [
    "### 1. Traction Chain architecture and components\n",
    "\n",
    "#### 1.1. Global architecture\n",
    "The traction chain with the motor, the power converter, the battery, the reduction gear and the wheels is now added to the previous vehicle model developped. The cooling system is not modeled at this time and will be developped later."
   ]
  },
  {
   "cell_type": "markdown",
   "metadata": {},
   "source": [
    "*Traction chain principle*  \n",
    "![TractionChain](03/TractionChainPrinciple.png)\n"
   ]
  },
  {
   "cell_type": "markdown",
   "metadata": {},
   "source": [
    "#### 1.2. Wheels\n",
    "The radius of the wheels are chosen equal to 356mm, which corresponds to a 235/65 R16 tyre, which is the standard model for Daily IVECO Van Euro 6 vehicles [(link)](https://www.iveco.com/DailyBusiness/img/doc/BTS_L1612301MASTER_05-16.pdf) (page 26)."
   ]
  },
  {
   "cell_type": "code",
   "execution_count": 1,
   "metadata": {},
   "outputs": [],
   "source": [
    "Rwheel = 0.356   # [m] Wheel radius"
   ]
  },
  {
   "cell_type": "markdown",
   "metadata": {},
   "source": [
    "#### 1.3. Battery\n",
    "The battery is for now modeled as an ideal voltage source. The typical voltage levels of the batteries of this type of vehicles are between 300 and 400V. We will assume for the following a voltage of 300V."
   ]
  },
  {
   "cell_type": "code",
   "execution_count": 2,
   "metadata": {},
   "outputs": [],
   "source": [
    "Ubat = 300  # [V] Battery voltage"
   ]
  },
  {
   "cell_type": "markdown",
   "metadata": {},
   "source": [
    "#### 1.4. Motor\n",
    "\n",
    "#### 1.4.1. Selected motor\n",
    "The brushless motor has been selected into the HKW range of Parvex motor ([catalogue](http://parkerstore.lv/pdf/cat4/192_490123_motion-control_products.pdf) see p183). HKW motors are high performance permanent magnet synchronous servomotors for spindle applications up to 230 kW. Delivered as separate components to be integrated into the mechanical structure of the machine, HKW motors benefit from the use of field weakening, in order to achieve both high torque at slow speed, and very high maximum speed at constant power.\n",
    "\n",
    "*Parvex HKW motor with constant power zone*  \n",
    "<img src=\"03/HWK_Motor_TorqueSpeed.png\" width=\"500\">\n",
    "\n",
    "The selected motor is given below:  \n",
    "\n",
    "*Parvex HKW242_225DAB Datasheet*  \n",
    "<img src=\"03/Datasheet1.JPG\" width=\"500\">\n",
    "<img src=\"03/Datasheet2.JPG\" width=\"500\">\n",
    "\n",
    "This motor is an industrial motor typically used for driving machine tool spindles. It is therefore not an motor specifically developed for the motorization of vehicles. It can however be controlled in defluxing mode in order to present a constant power characteristic well suited to the motorization needs of road vehicles. It only requires a fixed ratio reducer and thus avoids the use of a gearbox with several ratios.\n",
    "\n",
    "**Remark 1**: Unlike electric vehicle motors, it does not present a strong difference between direct and quadratic inductance (Ld and Lq) in order to  increase torque thanks reluctance effect. The figure below shows a 2010 Prius engine rotor with V-shaped magnets.\n",
    "For what follows, however, we will limit ourselves to the case Ld = Lq which simplify the modeling.\n",
    "\n",
    "*V-shaped Interior permanent magnet (IPM) rotor of a 2010 Prius motor ([source](https://www.mdpi.com/2075-1702/8/2/20/htm))*  \n",
    "<img src=\"03/VshapePrius.png\" width=\"200\">\n",
    "\n",
    "**Remark 2**: You can find more information about synchronous motor and inverter modeling in the the [Annex A](AA_Traction_Chain_AC.ipynb)."
   ]
  },
  {
   "cell_type": "markdown",
   "metadata": {},
   "source": [
    "#### 1.4.2. Gear reducer ratio\n",
    "\n",
    "> **Question:** select a reduction ratio compatible with max speed and max torque of the motor and which maximises power of the motor.\n",
    "Calculate the motor speeds corresponding to base speeds of 25 or 50 km/h.\n"
   ]
  },
  {
   "cell_type": "code",
   "execution_count": 3,
   "metadata": {},
   "outputs": [
    {
     "name": "stdout",
     "output_type": "stream",
     "text": [
      "Gear reduction ratio should be between 12.20 and 14.55\n",
      "Gear reduction selected: 14.55\n",
      "---\n",
      "25 km/h of base speed\n",
      "-\n",
      "Motor base speed for the application: 2711 rpm or 283.76 rad/s\n",
      "Motor power: 102.15 kW\n",
      "---\n",
      "50 km/h of base speed\n",
      "-\n",
      "Motor base speed for the application: 5422 rpm or 567.51 rad/s\n",
      "Motor power: 204.30 kW\n",
      "---\n",
      "75 km/h of base speed\n",
      "-\n",
      "Motor base speed for the application: 8133 rpm or 851.27 rad/s\n",
      "Motor power: 306.46 kW\n",
      "---\n"
     ]
    }
   ],
   "source": [
    "import math \n",
    "\n",
    "# Calculation of reduction ratio for torque\n",
    "# -------\n",
    "MaxForce=12335 # [N] Max traction force\n",
    "MaxWheelTorque=MaxForce*Rwheel # [N.m] Max global torque \n",
    "MaxTorqueMotor=360 #\n",
    "\n",
    "N_mini=MaxWheelTorque/MaxTorqueMotor # Max torque, if N lower torque is too high\n",
    "\n",
    "# Calculation of reduction ratio for speed\n",
    "# -------\n",
    "MaxSpeed=33.3 # [m/s] Max linear speed\n",
    "MaxWheelSpeed=MaxSpeed/Rwheel # [rad/s] Max rotational speed\n",
    "\n",
    "MaxSpeedMotor=13000*2*3.14/60 # [rad/s] Max motor speed\n",
    "\n",
    "N_maxi=MaxSpeedMotor/MaxWheelSpeed # Max speed, if N higher speed is too high\n",
    "\n",
    "print(\"Gear reduction ratio should be between %.2f and %.2f\"%(N_mini, N_maxi))\n",
    "\n",
    "# Calculation of the base speed\n",
    "# -------\n",
    "\n",
    "N=N_maxi\n",
    "print(\"Gear reduction selected: %.2f\"%(N_maxi))\n",
    "print(\"---\")\n",
    "\n",
    "# 25 km/h\n",
    "BaseSpeedLinear25=25/3.6 # [m/s] Base speed for the vehicle\n",
    "BaseSpeed25=BaseSpeedLinear25/Rwheel*N # [rad/s] base speed for the motor\n",
    "\n",
    "print(\"25 km/h of base speed\")\n",
    "print(\"-\")\n",
    "print(\"Motor base speed for the application: %.0f rpm or %.2f rad/s\"%(BaseSpeed25*60/2/3.14, BaseSpeed25))\n",
    "print(\"Motor power: %.2f kW\"%(BaseSpeed25*MaxTorqueMotor/1e3))\n",
    "print(\"---\")\n",
    "\n",
    "# 50 km/h\n",
    "\n",
    "BaseSpeedLinear50=50/3.6 # [m/s] Base speed for the vehicle\n",
    "BaseSpeed50=BaseSpeedLinear50/Rwheel*N # [rad/s] base speed for the motor\n",
    "\n",
    "print(\"50 km/h of base speed\")\n",
    "print(\"-\")\n",
    "print(\"Motor base speed for the application: %.0f rpm or %.2f rad/s\"%(BaseSpeed50*60/2/3.14, BaseSpeed50))\n",
    "print(\"Motor power: %.2f kW\"%(BaseSpeed50*MaxTorqueMotor/1e3))\n",
    "print(\"---\")\n",
    "\n",
    "# 75 km/h\n",
    "\n",
    "BaseSpeedLinear75=75/3.6 # [m/s] Base speed for the vehicle\n",
    "BaseSpeed75=BaseSpeedLinear75/Rwheel*N # [rad/s] base speed for the motor\n",
    "\n",
    "print(\"75 km/h of base speed\")\n",
    "print(\"-\")\n",
    "print(\"Motor base speed for the application: %.0f rpm or %.2f rad/s\"%(BaseSpeed75*60/2/3.14, BaseSpeed75))\n",
    "print(\"Motor power: %.2f kW\"%(BaseSpeed75*MaxTorqueMotor/1e3))\n",
    "print(\"---\")"
   ]
  },
  {
   "cell_type": "markdown",
   "metadata": {},
   "source": [
    "#### 1.4.3. Winding adaptation to application\n",
    "\n",
    "The selected motor doesn't fit with the battery voltage request of 300V with the standard winding (defined for a DC voltage of 540 V). However the winding can be adapted without major performances variation for the motor.\n",
    "\n",
    "> **Question:** Explain how to adapt winding parameters to a lower voltage motor and a different base speeds. A analysis of effect of turn numbers on back emf constant, winding resistance and inductance can be helpful.\n"
   ]
  },
  {
   "cell_type": "markdown",
   "metadata": {},
   "source": [
    "According to Lenz law : $E = - n\\frac{d\\phi}{dt}$ with $E$ the electromotive force, $n$ the turns number and $\\phi = BS$ the magnetic flux. As $\\phi$ evolves sinusoidally, we have $E = - nBS\\Omega$. As the magnetic field $B$ is produced by permanent magnets it is not impacted by the windings modification and so we have $B^*=1$. As $S$ is related to the size of the motor, that doesn't change in our case, we have $S^*=1$. So we finally have $E^* = n^*\\Omega^* \\Longleftrightarrow n^* = \\frac{E^*}{\\Omega^*}$\n",
    "\n",
    "As $E^* = V^* = U^* = U_{DC}^*$ we have : <span style=\"color:blue\">$n^* = \\frac{U_{DC}^*}{\\Omega^*}$</span>. So from the imposed battery voltage modification and the base speed modification that we want, we can compute the turns number that we need.   \n",
    "\n",
    "The windings modification will impact the back emf constant as well as the winding resistance and inductance :\n",
    "- back emf constant K : \n",
    "    - from the previous equation we can deduct that <span style=\"color:blue\">$K^*=n^*$</span>\n",
    "- winding resistance R : \n",
    "    - $R=\\frac{\\rho L}{S}$ with $\\rho$, $L$ and $S$ the resistivity, the length and the section of the wire. As we keep the same type of wire we have $\\rho^* = 1$. As the space for the wires is limited, if we add/remove turns, we have to reduce/increase wires section. Thus we have $S^*=\\frac{1}{n^*}$. We can also easily find that $L^*=n^*$. Thus we finally have <span style=\"color:blue\">$R^* = {n^*}^2$</span>\n",
    "- winding inductance L : \n",
    "    - We know that for brushless motors $L = \\frac{n^2 \\mu_0 A_{iron}}{2e}$ with $\\mu_0$ the vacuum permeability, $e$ the airgap and $A_{iron}$ the section of the iron bar inside the coil. As we keep the same structure we have $A_{iron}^*=1$ and $e^*=1$. We also have $\\mu_0^*=1$. Thus we finally have <span style=\"color:blue\">$L^*=n^{*^2}$</span>"
   ]
  },
  {
   "cell_type": "code",
   "execution_count": 4,
   "metadata": {},
   "outputs": [
    {
     "name": "stdout",
     "output_type": "stream",
     "text": [
      "25 km/h:\n",
      "Single phase peak voltage Ke = 0.48 V/(rad/s)\n",
      "Torque constant Kt = 0.73 [N.m/A]\n",
      "Resistance phase to neutral Rb = 1.23e-02 [Ω]\n",
      "Transverse inductance (phase to neutral) Ld = 3.32e-04 [H]\n",
      "---\n",
      "50 km/h:\n",
      "Single phase peak voltage Ke = 0.24 V/(rad/s)\n",
      "Torque constant Kt = 0.36 [N.m/A]\n",
      "Resistance phase to neutral Rb = 3.06e-03 [Ω]\n",
      "Transverse inductance (phase to neutral) Ld = 8.31e-05 [H]\n",
      "---\n",
      "75 km/h:\n",
      "Single phase peak voltage Ke = 0.16 V/(rad/s)\n",
      "Torque constant Kt = 0.24 [N.m/A]\n",
      "Resistance phase to neutral Rb = 1.36e-03 [Ω]\n",
      "Transverse inductance (phase to neutral) Ld = 3.69e-05 [H]\n"
     ]
    }
   ],
   "source": [
    "# Calculation of the winding\n",
    "# ------\n",
    "\n",
    "# Ref winding parameters\n",
    "Ke_ref=81.5*math.sqrt(2)/(1000*2*3.14/60)/math.sqrt(3) # [V/(rad/s)] Single phase peak voltage \n",
    "Kt_ref=3/2*Ke_ref\n",
    "Rb_ref=  0.0424 / 2 #[Ω] resistance phase to neutral\n",
    "Ld_ref= 0.00115 /2  #[H]   transverse inductance (phase-neutral)\n",
    "\n",
    "pp=4 # Pole pair number\n",
    "\n",
    "BaseSpeedRef=3710*2*3.14/60 # [rad/s] Reference base speed\n",
    "Udc_ref=540 # [V] DC voltage reference\n",
    "\n",
    "# Remark: motor highly saturated for high current which can explain lower inductance and lower DC voltage for high current and high torque\n",
    "\n",
    "# Adaptation 25 km/h\n",
    "\n",
    "Udc=300 # [V] Battery DC voltage\n",
    "\n",
    "Ke25=Ke_ref*Udc/Udc_ref/(BaseSpeed25/BaseSpeedRef) # [V/(rad/s)] Single phase peak voltage \n",
    "Kt25=3/2*Ke25 # [N.m/A] torque constant\n",
    "Rb25=Rb_ref*(Ke25/Ke_ref)**2 # [Ω] resistance phase to neutral\n",
    "Ld25=Ld_ref*(Ke25/Ke_ref)**2  # [H] transverse inductance (phase-neutral)\n",
    "\n",
    "print(\"25 km/h:\")\n",
    "print(\"Single phase peak voltage Ke = %.2f V/(rad/s)\"%Ke25)\n",
    "print(\"Torque constant Kt = %.2f [N.m/A]\"% Kt25)\n",
    "print(\"Resistance phase to neutral Rb = %.2e [Ω]\"%Rb25)\n",
    "print(\"Transverse inductance (phase to neutral) Ld = %.2e [H]\"%Ld25)\n",
    "print(\"---\")\n",
    "\n",
    "# Adaptation 50 km/h\n",
    "\n",
    "Ke50=Ke_ref*Udc/Udc_ref/(BaseSpeed50/BaseSpeedRef) # [V/(rad/s)] Single phase peak voltage \n",
    "Kt50=3/2*Ke50 # [N.m/A] torque constant\n",
    "Rb50=Rb_ref*(Ke50/Ke_ref)**2 # [Ω] resistance phase to neutral\n",
    "Ld50=Ld_ref*(Ke50/Ke_ref)**2  # [H] transverse inductance (phase-neutral)\n",
    "\n",
    "print(\"50 km/h:\")\n",
    "print(\"Single phase peak voltage Ke = %.2f V/(rad/s)\"%Ke50)\n",
    "print(\"Torque constant Kt = %.2f [N.m/A]\"% Kt50)\n",
    "print(\"Resistance phase to neutral Rb = %.2e [Ω]\"%Rb50)\n",
    "print(\"Transverse inductance (phase to neutral) Ld = %.2e [H]\"%Ld50)\n",
    "print(\"---\")\n",
    "\n",
    "# Adaptation 75 km/h\n",
    "\n",
    "Ke75=Ke_ref*Udc/Udc_ref/(BaseSpeed75/BaseSpeedRef) # [V/(rad/s)] Single phase peak voltage \n",
    "Kt75=3/2*Ke75 # [N.m/A] torque constant\n",
    "Rb75=Rb_ref*(Ke75/Ke_ref)**2 # [Ω] resistance phase to neutral\n",
    "Ld75=Ld_ref*(Ke75/Ke_ref)**2  # [H] transverse inductance (phase-neutral)\n",
    "\n",
    "print(\"75 km/h:\")\n",
    "print(\"Single phase peak voltage Ke = %.2f V/(rad/s)\"%Ke75)\n",
    "print(\"Torque constant Kt = %.2f [N.m/A]\"% Kt75)\n",
    "print(\"Resistance phase to neutral Rb = %.2e [Ω]\"%Rb75)\n",
    "print(\"Transverse inductance (phase to neutral) Ld = %.2e [H]\"%Ld75)"
   ]
  },
  {
   "cell_type": "markdown",
   "metadata": {},
   "source": [
    "### 2. Traction chain simulation\n",
    "\n",
    "#### 2.1. Modelica model set-up\n",
    "\n",
    ">**Question:**  You now have all the characteristic parameters of the vehicle's powertrain. Set up the corresponding Modelica model using the supplied component models. Explain in your report the different control functions performed here.\n",
    "\n",
    "*Modelica model of the traction chain*  \n",
    "<img src=\"03/DriveTrainSimulation.png\" width=\"700\">\n",
    "\n",
    "Remarks: \n",
    "- Modelica models are based on the Parvex HKW242_225DAB brushless motor ([catalogue](http://parkerstore.lv/pdf/cat4/192_490123_motion-control_products.pdf)), while the inverter is modeled based on the SKM 400GB123D IGBT module ([datasheet)](https://www.galco.com/techdoc/sekg/skm400gb123d_dat.pdf). Adapt the parameters of the motor to the battery voltage.\n",
    "- The maximum output voltage of the inverter depends on the PWM used. The simplest PWM allows $U_{max}=\\frac{U_{DC}}{2}$, while a slightly more complex one allows $U_{max}=\\frac{U_{DC}}{\\sqrt{3}}$. We have chosen the 1st one. \n",
    "\n"
   ]
  },
  {
   "cell_type": "markdown",
   "metadata": {},
   "source": [
    "**Answer :** We can observe three main control loops. The loop situated at the right side of the model gives the value of slope as a function of the position. It is the order that situates the horizontal position of the car and associate the corresping slope (made from vertical position) indicated in the Cycle datafile. \n",
    "The upper loop controls the speed of the vehicle. The feedback give the error between the command and the real speed. That error is then converted in a torque command who is sended to the motor.\n",
    "The last loop is a security loop that actuates a mechanical brake when the vehicle goes at a high velocity and the brake demand is high and sudden. It prevents the motor from experiencing high currents. "
   ]
  },
  {
   "cell_type": "markdown",
   "metadata": {},
   "source": [
    "\n"
   ]
  },
  {
   "cell_type": "markdown",
   "metadata": {},
   "source": [
    "#### 2.2. Mission profiles simulation and comparison\n",
    "\n",
    ">**Questions:**  \n",
    "> - Configure the components (engine in particular) in order to simulate cycles 1 and 2 with a base speed of 25 or 50 km/h.  \n",
    "> - Compare the losses of the different cycles. Which cycle do you keep for the rest of the study?\n",
    "> - Modify the parameters of the inverter to correspond to a component in the Semitrans [range](https://www.semikron.com/products/product-lines/semitrans/semitrans-2-9.html) (select 600V, half-bridge, in production).\n",
    "> - Calculate the average losses in the diodes and in the IGBTs. Select the base speed and the component which minimize the losses. \n"
   ]
  },
  {
   "cell_type": "markdown",
   "metadata": {},
   "source": [
    "**Answers:**\n",
    "- Cycle 1 has more losses (mean total loss x2 compare to cycle2): Cycle 1 is selected for sizing and validation purposes.\n",
    "\n",
    "- With a 300A module ([Datasheet](https://www.semikron.com/dl/service-support/downloads/download/semikron-datasheet-skm300gb066d-21915520.pdf)) for Cycle 1:"
   ]
  },
  {
   "cell_type": "code",
   "execution_count": 5,
   "metadata": {},
   "outputs": [
    {
     "data": {
      "text/html": [
       "<div>\n",
       "<style scoped>\n",
       "    .dataframe tbody tr th:only-of-type {\n",
       "        vertical-align: middle;\n",
       "    }\n",
       "\n",
       "    .dataframe tbody tr th {\n",
       "        vertical-align: top;\n",
       "    }\n",
       "\n",
       "    .dataframe thead th {\n",
       "        text-align: right;\n",
       "    }\n",
       "</style>\n",
       "<table border=\"1\" class=\"dataframe\">\n",
       "  <thead>\n",
       "    <tr style=\"text-align: right;\">\n",
       "      <th></th>\n",
       "      <th>25 km/h</th>\n",
       "      <th>50 km/h</th>\n",
       "      <th>75 km/h</th>\n",
       "    </tr>\n",
       "  </thead>\n",
       "  <tbody>\n",
       "    <tr>\n",
       "      <th>Base speed (km/h)</th>\n",
       "      <td>25</td>\n",
       "      <td>50</td>\n",
       "      <td>75</td>\n",
       "    </tr>\n",
       "    <tr>\n",
       "      <th>Motor Loss (W)</th>\n",
       "      <td>667</td>\n",
       "      <td>117</td>\n",
       "      <td>144</td>\n",
       "    </tr>\n",
       "    <tr>\n",
       "      <th>6 IGBT loss (W)</th>\n",
       "      <td>524</td>\n",
       "      <td>449</td>\n",
       "      <td>628</td>\n",
       "    </tr>\n",
       "    <tr>\n",
       "      <th>6 Diodes loss (W)</th>\n",
       "      <td>158</td>\n",
       "      <td>182</td>\n",
       "      <td>270</td>\n",
       "    </tr>\n",
       "    <tr>\n",
       "      <th>Total loss (W)</th>\n",
       "      <td>1349</td>\n",
       "      <td>748</td>\n",
       "      <td>1042</td>\n",
       "    </tr>\n",
       "  </tbody>\n",
       "</table>\n",
       "</div>"
      ],
      "text/plain": [
       "                   25 km/h  50 km/h  75 km/h\n",
       "Base speed (km/h)       25       50       75\n",
       "Motor Loss (W)         667      117      144\n",
       "6 IGBT loss (W)        524      449      628\n",
       "6 Diodes loss (W)      158      182      270\n",
       "Total loss (W)        1349      748     1042"
      ]
     },
     "execution_count": 5,
     "metadata": {},
     "output_type": "execute_result"
    }
   ],
   "source": [
    "import numpy as np\n",
    "import pandas as pd\n",
    "\n",
    "ar = np.array([[25, 50,75], [667, 117, 144], [524,449,628], [158,182,270]])\n",
    "art = np.sum(ar[1:,:], axis=0)\n",
    "ar = np.append(ar, [art], axis=0)\n",
    "df = pd.DataFrame(ar, index = ['Base speed (km/h)', 'Motor Loss (W)','6 IGBT loss (W)', '6 Diodes loss (W)', 'Total loss (W)'], columns = ['25 km/h', '50 km/h', '75 km/h'])\n",
    "\n",
    "df"
   ]
  },
  {
   "cell_type": "code",
   "execution_count": 6,
   "metadata": {},
   "outputs": [
    {
     "data": {
      "text/plain": [
       "<matplotlib.axes._subplots.AxesSubplot at 0x1734d8078b0>"
      ]
     },
     "execution_count": 6,
     "metadata": {},
     "output_type": "execute_result"
    },
    {
     "data": {
      "image/png": "[encoded data removed]",
      "text/plain": [
       "<Figure size 432x288 with 1 Axes>"
      ]
     },
     "metadata": {
      "needs_background": "light"
     },
     "output_type": "display_data"
    }
   ],
   "source": [
    "df.iloc[1:,:].plot(kind='bar')"
   ]
  },
  {
   "cell_type": "markdown",
   "metadata": {},
   "source": [
    "Choosing a base speed of 25 km/h is not a good idea for this cycle. Actually, it is difficult to carry out a simulation that allow to make the regenerative braking function.\n",
    "The difference of losses in the motor is due to the higher current required for defluxing.\n",
    "\n",
    "We observe it on the Id (defluxing) and Iq (torque) currents:\n",
    "![IdIq](./03/IdIq_25vs50kmh.png)\n",
    "\n",
    "For the rest, we will choose a base speed of 50km / h.\n",
    "\n",
    "- Then we compare the 300A and 600A modules for a base speed of 50 km/h :"
   ]
  },
  {
   "cell_type": "code",
   "execution_count": 7,
   "metadata": {},
   "outputs": [
    {
     "data": {
      "text/html": [
       "<div>\n",
       "<style scoped>\n",
       "    .dataframe tbody tr th:only-of-type {\n",
       "        vertical-align: middle;\n",
       "    }\n",
       "\n",
       "    .dataframe tbody tr th {\n",
       "        vertical-align: top;\n",
       "    }\n",
       "\n",
       "    .dataframe thead th {\n",
       "        text-align: right;\n",
       "    }\n",
       "</style>\n",
       "<table border=\"1\" class=\"dataframe\">\n",
       "  <thead>\n",
       "    <tr style=\"text-align: right;\">\n",
       "      <th></th>\n",
       "      <th>300 A</th>\n",
       "      <th>600 A</th>\n",
       "    </tr>\n",
       "  </thead>\n",
       "  <tbody>\n",
       "    <tr>\n",
       "      <th>Base speed (km/h)</th>\n",
       "      <td>50</td>\n",
       "      <td>50</td>\n",
       "    </tr>\n",
       "    <tr>\n",
       "      <th>Rated Current (A)</th>\n",
       "      <td>300</td>\n",
       "      <td>600</td>\n",
       "    </tr>\n",
       "    <tr>\n",
       "      <th>Motor Loss (W)</th>\n",
       "      <td>117</td>\n",
       "      <td>117</td>\n",
       "    </tr>\n",
       "    <tr>\n",
       "      <th>6 IGBT loss (W)</th>\n",
       "      <td>449</td>\n",
       "      <td>402</td>\n",
       "    </tr>\n",
       "    <tr>\n",
       "      <th>6 Diodes loss (W)</th>\n",
       "      <td>182</td>\n",
       "      <td>176</td>\n",
       "    </tr>\n",
       "  </tbody>\n",
       "</table>\n",
       "</div>"
      ],
      "text/plain": [
       "                   300 A  600 A\n",
       "Base speed (km/h)     50     50\n",
       "Rated Current (A)    300    600\n",
       "Motor Loss (W)       117    117\n",
       "6 IGBT loss (W)      449    402\n",
       "6 Diodes loss (W)    182    176"
      ]
     },
     "execution_count": 7,
     "metadata": {},
     "output_type": "execute_result"
    }
   ],
   "source": [
    "ar = np.array([[50, 50], [300, 600], [117, 117], [449, 402], [182, 176]])\n",
    "df = pd.DataFrame(ar, index = ['Base speed (km/h)', 'Rated Current (A)','Motor Loss (W)','6 IGBT loss (W)', '6 Diodes loss (W)'], columns = ['300 A', '600 A'])\n",
    "\n",
    "df"
   ]
  },
  {
   "cell_type": "markdown",
   "metadata": {},
   "source": [
    "The losses are practically similar. The increase of switching losses compensates the decrease of conduction losses. The thermal resistances are however lower for the 600A modules: 0.08 against 0.15 K / W for the IGBTs, 0.125 against 0.25 K / W for the diodes."
   ]
  },
  {
   "cell_type": "code",
   "execution_count": null,
   "metadata": {},
   "outputs": [],
   "source": []
  }
 ],
 "metadata": {
  "kernelspec": {
   "display_name": "Python 3",
   "language": "python",
   "name": "python3"
  },
  "language_info": {
   "codemirror_mode": {
    "name": "ipython",
    "version": 3
   },
   "file_extension": ".py",
   "mimetype": "text/x-python",
   "name": "python",
   "nbconvert_exporter": "python",
   "pygments_lexer": "ipython3",
   "version": "3.8.3"
  }
 },
 "nbformat": 4,
 "nbformat_minor": 4
}
