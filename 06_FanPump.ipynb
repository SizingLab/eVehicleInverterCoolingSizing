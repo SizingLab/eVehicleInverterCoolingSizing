{
 "cells": [
  {
   "cell_type": "markdown",
   "metadata": {},
   "source": [
    "<img src=\"./pictures/logo-insa.png\" style=\"float:right; max-width: 60px; display: inline\" alt=\"INSA\" />"
   ]
  },
  {
   "cell_type": "markdown",
   "metadata": {},
   "source": [
    "# Pump and Fan\n",
    " \n",
    "*Written by Marc Budinger, INSA Toulouse, France*"
   ]
  },
  {
   "cell_type": "markdown",
   "metadata": {},
   "source": [
    "The selection of fan and pump depends on the required cooling capabilities and the pressure drop characteristics. In order to select a suitable component, a model linking the size, its performances and the pressure is required. Such type of model, called [similarity of affinity laws](https://en.wikipedia.org/wiki/Affinity_laws), can be established using dimensional analysis , [Buckingham theorem](http://www.astro.yale.edu/coppi/astro520/buckingham_pi/Buckinghamforlect1.pdf)  and linear regression. "
   ]
  },
  {
   "cell_type": "markdown",
   "metadata": {},
   "source": [
    "The pump and the fan have the same behaviour and follow the same equations :\n",
    "- it exists a relation between the differential pressure created $dP$ and the flow rate $Q$. \n",
    "- $dP$ and $Q$ depends on the velocity of the blades : $\\frac{dP_1}{dP_2}=\\big(\\frac{n_1}{n_2}\\big)^2$ and $\\frac{Q_1}{Q_2}=\\frac{n_1}{n_2}$\n",
    "- the differential pressure created is equal to the system pressure drop and sets the flow rate.\n",
    "\n",
    "*Fan and pump Pressure/Flow curves from [Rockwell automation](https://literature.rockwellautomation.com/idc/groups/literature/documents/wp/drives-wp009_-en-p.pdf)*  \n",
    "<img src=\"06/FanCurve.png\" width=\"300\">\n",
    "\n"
   ]
  },
  {
   "cell_type": "markdown",
   "metadata": {},
   "source": [
    "## 1. Axial-Fan\n",
    "\n",
    "The fan ensures a minimum air flow rate passing through the radiator in order to cool the coolant while overcoming the pressure drop of the radiator.  We will illustrate the modeling approach on a axial-fan family taken from the SPAL catalog ([doc1](https://www.spalautomotive.it/documents/20182/35726/brushless_catalogue.pdf/011138a9-0a3f-4ada-9dc6-31560ef69104), [doc2](https://www.spalautomotive.it/documents/20182/35726/axial_general_catalogue.pdf/865e2f61-813e-4725-ab8f-953a937eea9b)) \n",
    "\n",
    "*Axial-fan*  \n",
    "<img src=\"06/Fan.png\" width=\"700\">\n",
    "\n",
    "#### 1.1. Dimensional analysis\n",
    "\n",
    "The pressure drop of a fan $ΔP$ depends on the flow rate $Q$, the density of air $ρ$, the coefficient of compressibility $\\beta$, the rotational speed of the fan $ω$, the diameter and the thickness of the fan $D_{fan}$ and $e_{fan}$ respectively. The following table gives the corresponding dimensional matrix."
   ]
  },
  {
   "cell_type": "markdown",
   "metadata": {},
   "source": [
    "|    |  M| L | T|\n",
    "|---|---|---|---|\n",
    "|      $\\Delta P$|   1| -2| -2|\n",
    "|      $Q$|   0| 3| -1|\n",
    "|     $\\omega$\t|   0|   0|   -1|\n",
    "|      $D_{fan}$\t|   0| 1| 0|\n",
    "|      $\\rho$\t|   1| -3| 0|\n",
    "|      $\\beta$\t|  -1| 2| 2|\n",
    "|    $e_{fan}$| 0| 1| 0|\n"
   ]
  },
  {
   "cell_type": "markdown",
   "metadata": {},
   "source": [
    "> **Question:** Determine, thanks the Buckingham theorem, the number of dimensionless $\\pi$ variables. Complete the dimensional matrix with judicious $\\pi$ variables. Use as repetive variables $\\rho$, $\\omega$ and $D_{fan}$."
   ]
  },
  {
   "cell_type": "markdown",
   "metadata": {},
   "source": [
    "#### 1.2. Scaling laws \n",
    "\n",
    "We will assume here that the mass and the bulk come mainly from the aerodynamic part of the fan. We will overlook the effect of motorization in building our relationships.\n",
    "\n",
    "> **Questions:** \n",
    "> - Suggest a grouping of the pi numbers previously developed, assuming that the superposition of 2 fans doubles the maximum pressure but not the maximum flow.\n",
    "> - Propose a scaling law for the maximum rotational speed, assuming that blade tip speed have to be lower to a fraction of [speed of sound](https://en.wikipedia.org/wiki/Speed_of_sound).\n",
    "\n"
   ]
  },
  {
   "cell_type": "markdown",
   "metadata": {},
   "source": [
    "#### 1.3. Numerical application\n",
    "\n",
    "> **Questions:** \n",
    "> - Take as reference the VA99-BBL324P/N-101A/SH fan into the [SPAL catalog]((https://www.spalautomotive.it/documents/20182/35726/brushless_catalogue.pdf/011138a9-0a3f-4ada-9dc6-31560ef69104) and propose a set of relations which allow to determine the main characteristics (diameter, mass, thickness, ...) of a fan according to a need (pressure drop, flow rate). \n",
    "> - Thanks to these relations propose a fan able to produce a Q=0.23 m3/s of air flow rate with a dP=130 Pa of differential pressure. "
   ]
  },
  {
   "cell_type": "markdown",
   "metadata": {},
   "source": [
    "## 2. Pump\n",
    "\n",
    "Electric water pump are composed of:\n",
    "- a centrifugal pump part where the fluid enters axially into the impeller and exists radially into the volute. \n",
    "- a motor part which supply mechanical rotational energy to the impeller.  \n",
    "\n",
    "The difference in inlet and outlet diameter together with a change in blade height creates strong centrifugal forces that imposes the change in total energy in the fluid by raising the pressure and velocity. As seen on the following figure, the motor part contrary to fan can represent an important part of the device.\n",
    "\n",
    "*[Automotive water pump](http://www.brushless-dcmotor.com/sale-10405352-ip67-24vdc-auto-electric-water-pump-for-electric-vehicles-cooling-with-low-noise.html)*  \n",
    "![Pump](http://www.brushless-dcmotor.com/photo/pd18068778-ip67_24vdc_auto_electric_water_pump_for_electric_vehicles_cooling_with_low_noise.jpg)\n",
    "\n",
    "#### 2.1. Dimensional analysis\n",
    "\n",
    "> **Question:** complete dimensional analysis of section 1.1. with efficiency and torque interest variables. \n",
    "\n",
    "#### 2.2. Scaling law\n",
    "\n",
    "We will assume :\n",
    "- a complete geometry similarity  \n",
    "- that the pump is working at its maximum efficiency point.  \n",
    "\n",
    "> **Exercice:** In this case, determine the expression of the torque to be supplied to the impeller. Propose a scaling law estimating the mass (mainly of the motor here) as a function of the flow rate and the pressure to be supplied.\n",
    "\n",
    "Take as reference the DC50B-12100 pump of BLDCPump ([BLDCPump catalog](https://www.bldcpump.com/downloads/product-catalog.pdf)).\n",
    "\n",
    "*Water pump reference*  \n",
    "\n",
    "|  | Diameter (mm) | Length (mm) | Mass (g) | Head (m) | Flow rate (l/min) | Max head (m) | Max flow rate (l/min) |\n",
    "| --- | --- | --- | --- | --- | --- | --- | --- |\n",
    "| DC50B-12100 | 53 | 100.5 | 600 | 4.7 | 13 | 10 | 26 |\n",
    "\n"
   ]
  },
  {
   "cell_type": "markdown",
   "metadata": {},
   "source": [
    "#### 2.1. Numerical application\n",
    "\n",
    "> **Exercice:** Thanks to these relations propose the a pump able to produce a total pressure drop of 22000 Pa for a flow rate of 10.5 l/min."
   ]
  },
  {
   "cell_type": "markdown",
   "metadata": {},
   "source": [
    "## 3. Modelica Model\n",
    "The pump and the fan have the same Modelica model where the $dP=f(Q)$ function is computed by giving 3 operating points.\n"
   ]
  },
  {
   "cell_type": "markdown",
   "metadata": {},
   "source": [
    "> **Exercice:** Update scaling laws and reference in order to define these 3 operating points (no flow, nominal flow, max flow)."
   ]
  },
  {
   "cell_type": "code",
   "execution_count": 2,
   "metadata": {},
   "outputs": [],
   "source": []
  },
  {
   "cell_type": "code",
   "execution_count": null,
   "metadata": {},
   "outputs": [],
   "source": []
  },
  {
   "cell_type": "code",
   "execution_count": null,
   "metadata": {},
   "outputs": [],
   "source": []
  },
  {
   "cell_type": "code",
   "execution_count": null,
   "metadata": {},
   "outputs": [],
   "source": []
  }
 ],
 "metadata": {
  "kernelspec": {
   "display_name": "Python 3",
   "language": "python",
   "name": "python3"
  },
  "language_info": {
   "codemirror_mode": {
    "name": "ipython",
    "version": 3
   },
   "file_extension": ".py",
   "mimetype": "text/x-python",
   "name": "python",
   "nbconvert_exporter": "python",
   "pygments_lexer": "ipython3",
   "version": "3.8.3"
  }
 },
 "nbformat": 4,
 "nbformat_minor": 4
}
