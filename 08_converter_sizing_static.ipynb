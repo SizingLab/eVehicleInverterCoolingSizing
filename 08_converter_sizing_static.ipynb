{
 "cells": [
  {
   "cell_type": "markdown",
   "metadata": {
    "slideshow": {
     "slide_type": "slide"
    }
   },
   "source": [
    "<img src=\"./01/logo-insa.png\" style=\"float:right; max-width: 60px; display: inline\" alt=\"INSA\" /></a>"
   ]
  },
  {
   "cell_type": "markdown",
   "metadata": {
    "slideshow": {
     "slide_type": "slide"
    }
   },
   "source": [
    "# Sizing of the power converter on static criteria\n",
    "*Written by Marc Budinger, INSA Toulouse, France*"
   ]
  },
  {
   "cell_type": "markdown",
   "metadata": {
    "slideshow": {
     "slide_type": "slide"
    }
   },
   "source": [
    "The purpose of this notebook is to structure the sizing procedure of the inverter and its cooling system.\n",
    "\n",
    "In general, the establishment of a sizing procedure involves the resolution of the following 3 problems:\n",
    "* a set of equations sub-constrained by the addition of a design variable in the optimization problem;\n",
    "* an over-constrained variable by adding a design variable (multiplier) and the transfer of the excess equation(s) in the constrained part of the optimization problem;\n",
    "* an algebraic loop by the use of a simplify equation weighted by a multiplying coefficient and a constraint representing the initial equation.\n"
   ]
  },
  {
   "cell_type": "markdown",
   "metadata": {
    "slideshow": {
     "slide_type": "slide"
    }
   },
   "source": [
    "\n",
    "Where possible:\n",
    "* the design variables must take the form of a normalized variable around 1 (oversize coef. for example) or easily bounded to facilitate the work of the optimization algorithm.\n",
    "* the constraints must take the form of inequality and not of equality more difficult to manage. The optimization of the objective (for example the total mass) will certainly force some (active) constraints to come to an end. "
   ]
  },
  {
   "cell_type": "markdown",
   "metadata": {
    "slideshow": {
     "slide_type": "slide"
    }
   },
   "source": [
    "## 1. Specification and equations\n",
    "\n",
    "### 1.1. Inputs and specifications\n",
    "\n",
    "The purpose of the sizing will be to minimize the mass of the cooling system. This mass depends mainly on the losses of the converter. In this notebook we will take into account the average value of losses in transistors and diodes.\n"
   ]
  },
  {
   "cell_type": "code",
   "execution_count": 1,
   "metadata": {},
   "outputs": [],
   "source": [
    "Loss1D=91 # [W] Mean power loss of one diode of the inverter\n",
    "Loss1T=139 # [W] Mean power loss of one transisotr of the inverter\n"
   ]
  },
  {
   "cell_type": "markdown",
   "metadata": {},
   "source": [
    "### 1.2. Design assumptions"
   ]
  },
  {
   "cell_type": "code",
   "execution_count": 2,
   "metadata": {},
   "outputs": [],
   "source": [
    "Nfan=1 # [-] Number of fans"
   ]
  },
  {
   "cell_type": "markdown",
   "metadata": {
    "slideshow": {
     "slide_type": "slide"
    }
   },
   "source": [
    "## Thermal sizing scenario\n",
    "\n",
    "### Design graph\n",
    "\n",
    "> **Question:** Represent the sizing problem as an undirected graph. Use this graph to wisely choose the orientation of the calculations and the variables of the optimization problem.\n",
    "\n",
    "![Graphic Thermal Design](08/IGBT_design_graph.png)\n",
    "\n",
    "\n"
   ]
  },
  {
   "cell_type": "markdown",
   "metadata": {
    "slideshow": {
     "slide_type": "slide"
    }
   },
   "source": [
    "### Optimization problem: synthesis\n",
    "\n",
    "> Exercice: synthesis here the design variables, the constraints which have to be add to the optimization problem.\n",
    "\n",
    "![PseudoCode](08/PseudoCodeInductor.png)\n",
    "\n"
   ]
  },
  {
   "cell_type": "markdown",
   "metadata": {},
   "source": [
    "### Sizing code and optimization\n",
    "\n",
    "> **Exercice:** propose a sizing code and a optimization loop for the cooling system.\n",
    "\n",
    "Before performing the overall optimization, each team member can test part of the code on a subset of the system in order to work collaboratively."
   ]
  },
  {
   "cell_type": "code",
   "execution_count": 3,
   "metadata": {},
   "outputs": [],
   "source": [
    "from math import pi, sqrt\n",
    "\n",
    "# Coolants \n",
    "π = pi\n",
    "\n",
    "'''Coolant flow characteristics (40°C)'''\n",
    "λ_c  = 0.393              #[W/m.K] thermal conductivity\n",
    "ρ_c  = 1030               #[kg/m3] density\n",
    "cp_c = 3690               #[J/Kg.K] heat mass capacity\n",
    "μ_c  = 0.00299            #[Pa.s] dynamic viscosity\n",
    "\n",
    "'''Air characteristics (27°C)'''\n",
    "T_in_a = 27            #[°C] input temperature\n",
    "λ_a  = 0.0262          #[W/m.K] thermal conductivity\n",
    "ρ_a  = 1.177           #[kg/m3] density \n",
    "cp_a = 1006            #[J/Kg.K] heat mass capacity\n",
    "μ_a  = 1.85e-5         #[Pa.s] dynamic viscosity\n",
    "\n",
    "T_air=40 # [K] Inlet air temperature"
   ]
  },
  {
   "cell_type": "code",
   "execution_count": 12,
   "metadata": {},
   "outputs": [],
   "source": [
    "import numpy as np\n",
    "import scipy\n",
    "import scipy.optimize\n",
    "import pandas as pd\n",
    "import timeit\n",
    "import ipywidgets as widgets\n",
    "from ipywidgets import interactive\n",
    "\n",
    "pd.options.display.float_format = '{:,.2f}'.format\n",
    "\n",
    "def Sizing(param, arg):\n",
    "    import math as m\n",
    "\n",
    "    # Inputs\n",
    "    # --\n",
    "\n",
    "\n",
    "        \n",
    "    # Power module\n",
    "    # --\n",
    "\n",
    "\n",
    "    # Cold Plate\n",
    "    # --\n",
    "\n",
    "\n",
    "    # Pipes\n",
    "    # --\n",
    "\n",
    "    \n",
    "    # Heat exchanger\n",
    "    # --\n",
    "    \n",
    "\n",
    "    # Pump\n",
    "    # --\n",
    "\n",
    " \n",
    "    \n",
    "    # Fan\n",
    "    # --\n",
    "\n",
    "    \n",
    "    # Total mass (to optimize)\n",
    "    # --\n",
    "    Total_mass = Nfan*Fan_Mass + Pump_Mass + HE_Mass + Pipes_mass # [kg]\n",
    "\n",
    "    # Objective and Constraints sum up\n",
    "    # ---\n",
    "    objective = Total_mass\n",
    "    \n",
    "    constraints = []\n",
    "    \n",
    "    # Objective and contraints\n",
    "    if arg=='Obj':\n",
    "        return objective\n",
    "    \n",
    "    elif arg=='Prt':\n",
    "    # the data to print a defined into a Pandas dataframe\n",
    "        col_names = ['Type', 'Name', 'Value', 'Unit', 'Comment']\n",
    "\n",
    "        df = pd.DataFrame()\n",
    "\n",
    "\n",
    "        df = df.append([{'Type': 'Specification', 'Name': 'Total loss', 'Value': LossTotal, 'Unit': '[W]', 'Comment': ''}])[col_names]\n",
    "        df = df.append([{'Type': 'Objective', 'Name': 'Total mass', 'Value': objective, 'Unit': '[kg]', 'Comment': 'Global mass'}])[col_names]\n",
    "        df = df.append([{'Type': 'Constraints', 'Name': 'HE_loss-LossTotal', 'Value': LossHE-LossTotal, 'Unit': '[W]', 'Comment': ''}])[col_names]\n",
    "        df = df.append([{'Type': 'Constraints', 'Name': 'T_ColdPlate-T_water_cold', 'Value': T_ColdPlate-T_water_cold, 'Unit': '[K]', 'Comment': ''}])[col_names]\n",
    "        #df = df.append([{'Type': 'Constraints', 'Name': 'Const 3', 'Value': constraints[2], 'Unit': '[m]', 'Comment': 'Developped length'}])[col_names]\n",
    "        df = df.append([{'Type': 'Variables', 'Name': 'Junction temperature', 'Value': param[0], 'Unit': '[K]', 'Comment': 'T_j'}])[col_names]\n",
    "        df = df.append([{'Type': 'Variables', 'Name': 'Water temperature', 'Value': param[1], 'Unit': '[K]', 'Comment': 'T water cold'}])[col_names]\n",
    "        df = df.append([{'Type': 'Variables', 'Name': 'Air speed', 'Value': param[2], 'Unit': '[m/s]', 'Comment': 'V air'}])[col_names]\n",
    "        df = df.append([{'Type': 'Variables', 'Name': 'Cr', 'Value': param[3], 'Unit': '[-]', 'Comment': 'HE'}])[col_names]\n",
    "        df = df.append([{'Type': 'Variables', 'Name': 'NTU', 'Value': param[4], 'Unit': '[-]', 'Comment': 'HE'}])[col_names]        \n",
    "        df = df.append([{'Type': 'Variables', 'Name': 'RD_pipes', 'Value': param[5], 'Unit': '[-]', 'Comment': 'HE'}])[col_names]        \n",
    "        df = df.append([{'Type': 'Pump', 'Name': 'Mass', 'Value': Pump_Mass, 'Unit': '[kg]', 'Comment': 'Mass'}])[col_names]\n",
    "        df = df.append([{'Type': 'Pump', 'Name': 'Pressure', 'Value': dP_water_total, 'Unit': '[Pa]', 'Comment': 'Pressure'}])[col_names]\n",
    "        df = df.append([{'Type': 'Pump', 'Name': 'Flow Rate', 'Value': Q_ColdPlate, 'Unit': '[l/min]', 'Comment': 'Flow rate'}])[col_names]\n",
    "        df = df.append([{'Type': 'Fan', 'Name': 'Mass', 'Value': Fan_Mass, 'Unit': '[kg]', 'Comment': 'Mass'}])[col_names]\n",
    "        df = df.append([{'Type': 'Fan', 'Name': 'Flow Rate', 'Value': Q_air*3600, 'Unit': '[m^3/h]', 'Comment': 'Flow rate'}])[col_names]\n",
    "        df = df.append([{'Type': 'Fan', 'Name': 'Delta Pressure', 'Value': Fan_dP , 'Unit': '[Pa]', 'Comment': ''}])[col_names]\n",
    "        df = df.append([{'Type': 'Heat Exchanger', 'Name': 'Mass', 'Value': HE_Mass, 'Unit': '[kg]', 'Comment': 'Mass'}])[col_names]\n",
    "        df = df.append([{'Type': 'Heat Exchanger', 'Name': 'Efficacity', 'Value': HE_Eff, 'Unit': '[-]', 'Comment': ''}])[col_names]        \n",
    "        df = df.append([{'Type': 'Heat Exchanger', 'Name': 'UA', 'Value': UA, 'Unit': '[-]', 'Comment': ''}])[col_names]        \n",
    "        df = df.append([{'Type': 'Heat Exchanger', 'Name': 'Surface', 'Value': S_air, 'Unit': '[m^2]', 'Comment': 'S_air'}])[col_names]        \n",
    "        df = df.append([{'Type': 'Heat Exchanger', 'Name': 'L', 'Value': HE_L, 'Unit': '[m]', 'Comment': ''}])[col_names]        \n",
    "        df = df.append([{'Type': 'Heat Exchanger', 'Name': 'H', 'Value': HE_H, 'Unit': '[m]', 'Comment': ''}])[col_names]    \n",
    "        df = df.append([{'Type': 'Heat Exchanger', 'Name': 'W', 'Value': HE_W, 'Unit': '[m]', 'Comment': 'Thickness'}])[col_names]    \n",
    "        df = df.append([{'Type': 'Heat Exchanger', 'Name': 'Air speed', 'Value': v_air, 'Unit': '[m/s]', 'Comment': ''}])[col_names]    \n",
    "        df = df.append([{'Type': 'Cold Plate', 'Name': 'Flow rate', 'Value': Q_ColdPlate, 'Unit': '[l/min]', 'Comment': 'Flow rate'}])[col_names]\n",
    "        df = df.append([{'Type': 'Cold Plate', 'Name': 'Thermal resistance', 'Value': Rth_ColdPlate*1000, 'Unit': '[mK/W]', 'Comment': 'Rth_ColdPlate'}])[col_names]\n",
    "        df = df.append([{'Type': 'Cold Plate', 'Name': 'Temperature ColdPlate', 'Value': T_ColdPlate, 'Unit': '[°C]', 'Comment': 'T_ColdPlate'}])[col_names]\n",
    "        df = df.append([{'Type': 'Cold Plate', 'Name': 'Temperature Hot water', 'Value': T_water_hot, 'Unit': '[°C]', 'Comment': 'T_water_hot'}])[col_names]\n",
    "        df = df.append([{'Type': 'Cold Plate', 'Name': 'Pressure drop', 'Value': dP_ColdPlate, 'Unit': '[Pa]', 'Comment': ''}])[col_names]\n",
    "        df = df.append([{'Type': 'Pipes', 'Name': 'Mass', 'Value': Pipes_mass, 'Unit': '[kg]', 'Comment': 'Mass'}])[col_names]\n",
    "        df = df.append([{'Type': 'Pipes', 'Name': 'Diameter', 'Value': RD_pipe*D_pipes_ref*1e3 , 'Unit': '[mm]', 'Comment': 'Internal diameter'}])[col_names]\n",
    "        df = df.append([{'Type': 'Pipes', 'Name': 'Pressure drop', 'Value': dP_pipes, 'Unit': '[Pa]', 'Comment': ''}])[col_names]\n",
    "        \n",
    "        # the dataframe is then organised to be printed with interactive widgets\n",
    "        items = sorted(df['Type'].unique().tolist())\n",
    "         \n",
    "        #print(df.to_markdown()) \n",
    "        \n",
    "        def f(Type):\n",
    "            return df[df['Type']==Type] \n",
    "        widgets.interact(f, Type=items)\n",
    "        return f\n",
    "                  \n",
    "    else:\n",
    "        return constraints\n",
    "\n",
    "\n"
   ]
  },
  {
   "cell_type": "code",
   "execution_count": 13,
   "metadata": {},
   "outputs": [],
   "source": [
    "#Variables d'optimisation\n",
    "\n",
    "# Vector of parameters\n",
    "parameters = np.array((XX,XX,...))\n"
   ]
  },
  {
   "cell_type": "code",
   "execution_count": 14,
   "metadata": {},
   "outputs": [
    {
     "name": "stdout",
     "output_type": "stream",
     "text": [
      "-----------------------------------------------\n",
      "Initial characteristics before optimization :\n"
     ]
    },
    {
     "data": {
      "application/vnd.jupyter.widget-view+json": {
       "model_id": "eba464a7d5dc40a3af140c1819a2c9c8",
       "version_major": 2,
       "version_minor": 0
      },
      "text/plain": [
       "interactive(children=(Dropdown(description='Type', options=('Cold Plate', 'Constraints', 'Fan', 'Heat Exchange…"
      ]
     },
     "metadata": {},
     "output_type": "display_data"
    },
    {
     "name": "stdout",
     "output_type": "stream",
     "text": [
      "-----------------------------------------------\n"
     ]
    }
   ],
   "source": [
    "# Initial characteristics before optimization \n",
    "print(\"-----------------------------------------------\")\n",
    "print(\"Initial characteristics before optimization :\")\n",
    "\n",
    "Sizing(parameters, 'Prt')\n",
    "print(\"-----------------------------------------------\")\n",
    "\n",
    "\n"
   ]
  },
  {
   "cell_type": "code",
   "execution_count": 15,
   "metadata": {},
   "outputs": [
    {
     "name": "stdout",
     "output_type": "stream",
     "text": [
      "Optimization terminated successfully    (Exit mode 0)\n",
      "            Current function value: 2.2877636849995118\n",
      "            Iterations: 25\n",
      "            Function evaluations: 169\n",
      "            Gradient evaluations: 24\n",
      "-----------------------------------------------\n",
      "Final characteristics after optimization :\n"
     ]
    },
    {
     "data": {
      "application/vnd.jupyter.widget-view+json": {
       "model_id": "6035d183e0e646eeb0594fa154499b13",
       "version_major": 2,
       "version_minor": 0
      },
      "text/plain": [
       "interactive(children=(Dropdown(description='Type', options=('Cold Plate', 'Constraints', 'Fan', 'Heat Exchange…"
      ]
     },
     "metadata": {},
     "output_type": "display_data"
    },
    {
     "name": "stdout",
     "output_type": "stream",
     "text": [
      "-----------------------------------------------\n"
     ]
    }
   ],
   "source": [
    "# Then we can solve the problem and print of the optimized solution:\n",
    "\n",
    "# In[70]:\n",
    "\n",
    "\n",
    "# optimization with SLSQP algorithm\n",
    "contrainte=lambda x: Sizing(x, 'Const')\n",
    "objectif=lambda x: Sizing(x, 'Obj')\n",
    "\n",
    "result = scipy.optimize.fmin_slsqp(func=objectif, x0=parameters, \n",
    "                                   bounds=[(XX,XX)...],\n",
    "                                   f_ieqcons=contrainte, iter=100, acc=1e-8, epsilon=0.0001)\n",
    "\n",
    "\n",
    "# Final characteristics after optimization \n",
    "print(\"-----------------------------------------------\")\n",
    "print(\"Final characteristics after optimization :\")\n",
    "\n",
    "Sizing(result, 'Prt')\n",
    "\n",
    "print(\"-----------------------------------------------\")"
   ]
  },
  {
   "cell_type": "code",
   "execution_count": null,
   "metadata": {},
   "outputs": [],
   "source": [
    "\n"
   ]
  },
  {
   "cell_type": "code",
   "execution_count": null,
   "metadata": {},
   "outputs": [],
   "source": []
  }
 ],
 "metadata": {
  "celltoolbar": "Slideshow",
  "kernelspec": {
   "display_name": "Python 3",
   "language": "python",
   "name": "python3"
  },
  "language_info": {
   "codemirror_mode": {
    "name": "ipython",
    "version": 3
   },
   "file_extension": ".py",
   "mimetype": "text/x-python",
   "name": "python",
   "nbconvert_exporter": "python",
   "pygments_lexer": "ipython3",
   "version": "3.8.3"
  }
 },
 "nbformat": 4,
 "nbformat_minor": 4
}
