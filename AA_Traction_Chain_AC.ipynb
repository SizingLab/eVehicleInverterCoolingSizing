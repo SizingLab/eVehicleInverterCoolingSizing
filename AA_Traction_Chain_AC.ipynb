{
 "cells": [
  {
   "cell_type": "markdown",
   "metadata": {},
   "source": [
    "<img src=\"./pictures/logo-insa.png\" style=\"float:right; max-width: 60px; display: inline\" alt=\"INSA\" /></a>"
   ]
  },
  {
   "cell_type": "markdown",
   "metadata": {},
   "source": [
    "# Annex A - AC motor and inverter modeling\n",
    " \n",
    "*Written by Yann Bocquet, INSA Toulouse, France*\n",
    "   \n"
   ]
  },
  {
   "cell_type": "markdown",
   "metadata": {},
   "source": [
    "### 1. AC Motor Model\n",
    "The electrical model of the 3 phases motor is shown below. For each phase we have $\\underline{V} = \\underline{E} + jX\\underline{I} + R\\underline{I}$ with $\\underline{E}=k_{v}\\Omega$ and $X=L\\omega$ the EMF and the reactance of one phase ($k_v$, $R$ and $L$ are the speed constant, resistance and inductance of one phase while $\\omega$ is the electrical speed).  <br>\n",
    "If we now replace the total inductance effect by a direct and a transversal inductance effects, we get : $\\underline{V} = \\underline{E} + jX_d\\underline{I_d} + jX_q\\underline{I_q} + R\\underline{I}$ with $I=\\sqrt{I_d^2+I_q^2}$, $I_d=Isin(\\psi)$, $I_q=Icos(\\psi)$, $X_q=L_q\\omega$ and $X_d=L_d\\omega$ ($\\psi$ is the phase shift between the EMF and the current). The Fresnel representation of this model is shown below. \n",
    "\n",
    "With this model, if we assume that the current vary sinusoidally, we get $C_m=\\frac{3}{2}k_vIcos(\\psi)=\\frac{3}{2}k_vI_q$.\n",
    "\n",
    ">[1] *Marc Derumaux. [Modelisation des moteurs brushless](https://eduscol.education.fr/sti/sites/eduscol.education.fr.sti/files/ressources/pedagogiques/9005/9005-moteurs-brushless-v3.pdf)* <br>\n",
    ">[2] *Bernard Multon. [Les machines synchrones autopilotées](https://cel.archives-ouvertes.fr/cel-01249633/document)*"
   ]
  },
  {
   "cell_type": "markdown",
   "metadata": {},
   "source": [
    "<img src=\"AA/Electric_model.JPG\" width=\"600\">\n",
    "<div style=\"text-align:center\"><span style=\"color:black; font-family:Georgia; font-size:1.2em;\">[2] Electrical model of the motor (Ref1)</span></div>\n",
    "\n",
    "<img src=\"AA/Fresnel.JPG\" width=\"400\">\n",
    "<div style=\"text-align:center\"><span style=\"color:black; font-family:Georgia; font-size:1.2em;\">[3] Fresnel representation of one phase (Ref2)</span></div>"
   ]
  },
  {
   "cell_type": "markdown",
   "metadata": {},
   "source": [
    "###### 1.1 Motor Control\n",
    "The motor selected uses fieldweakening which means that once the velocity of the motor is limited by the supply voltage (called base speed $\\Omega_b$), the control of the motor is changed in order to exceed this speed. This strategy implies however the decrease of the torque available. These characteristics can be seen on the graphs below.<br>\n",
    "For brushless motors, fieldweakening is done by increasing $\\psi$, which increases $I_d=Isin(\\psi)$ ($I_d$ negative), which in turn allows to keep constant the amplitude of $V$ while $E$ increases. An illustration is given below.\n",
    "\n",
    "In our case, the motor is controlled such that the torque available $C_m=\\frac{3}{2}k_vIcos(\\psi)$ is maximum when $\\Omega<\\Omega_b$. This is done by setting $\\psi=0$ which implies $I_d=Isin(\\psi)=0$ and $I_q=Icos(\\psi)=I$. In this case the brushless motor behaves as a DC motor with different torque and speed constants : $k_T=\\frac{3}{2}k_v$. <br> \n",
    "Once $\\Omega>\\Omega_b$, we want $V$ to remain constant equal to $\\frac{U_{DC}}{\\sqrt{3}}$ which is the maximum voltage available at the output of the inverter. From the illustration below, we can write the following equation : $V^2=(E-X_dI_d)^2+(XqIq)^2$ (The resistance is neglected as we are only considering high velocities). Thus for $\\Omega>\\Omega_b$ we want $I_d$ and $I_q$ such that:  \n",
    "$(\\frac{U_{DC}}{\\sqrt{3}})^2=(E-X_dI_d)^2+(XqIq)^2$ with $E=k_v\\Omega$  \n",
    "or  \n",
    "$(\\frac{U_{DC}}{2})^2=(E-X_dI_d)^2+(XqIq)^2$ with $E=k_v\\Omega$\n",
    "depending of the PWM type."
   ]
  },
  {
   "cell_type": "markdown",
   "metadata": {},
   "source": [
    "<img src=\"AA/Torque-Speed.JPG\" width=\"600\">\n",
    "<div style=\"text-align:center\"><span style=\"color:black; font-family:Georgia; font-size:1em;\">[4] Parvex HKW242_225DAB motor characteristics</span></div>\n",
    "\n",
    "<img src=\"AA/Fresnel_Fieldweakening.JPG\" width=\"400\">\n",
    "<div style=\"text-align:center\"><span style=\"color:black; font-family:Georgia; font-size:1em;\">[5] Fresnel representation with and without fieldweakening</span></div>"
   ]
  },
  {
   "cell_type": "markdown",
   "metadata": {},
   "source": [
    "###### 1.2 Modelica Model and Equations \n",
    "The modelica model of the motor is shown below. <br>\n",
    "\n",
    "The calculation steps for the backward simulation are the following ones:\n",
    "- The torque $C_m$ and the velocity $\\Omega$ are computed from the mission profiles <br>\n",
    "- The transversal current is computed from the required torque : $I_q=\\frac{C_m}{1.5k_T}$\n",
    "- The EMF and the electric velocity $\\omega$ are computed from the required angular velocity $\\Omega$ : $E=k_v\\Omega$ and $\\omega=N_{poles}\\Omega$ <br>\n",
    "- The direct current is computed depending on the velocity : <br>\n",
    "    $\\rightarrow$ Case $\\Omega<\\Omega_b$ : $\\psi=0$ $\\Longrightarrow$ $I_d=Isin(\\psi)=0$ <br>\n",
    "\n",
    "    $\\rightarrow$ Case $\\Omega>\\Omega_b$ : $I_d$ solution of : $(\\frac{U_{DC}}{2})^2=(E-X_dI_d)^2+(XqIq)^2$ (It implies $V\\approx\\frac{U_{DC}}{2}$) \n",
    "- The output voltage of the inverter is computed using the equation : $\\underline{V} = \\underline{E} + jL_q\\omega\\underline{I_q} + jL_d\\omega\\underline{I_d} + R\\underline{I}$ with  $I=\\sqrt{I_d^2+I_q^2}$\n",
    "- The Joule losses of the motor are computed from the current in the motor: $P_J=\\frac{3}{2}\\frac{R_{pp}I^2}{2}$ \n",
    "\n",
    "> *$L=\\frac{L_{pp}}{2}$ and $R=\\frac{R_{pp}}{2}$ with $L_{pp}$ and $R_{pp}$ the phase to phase inductance and resistance given in the datasheet. <br>\n",
    "It is important to note that all calculations are done using peak values.*\n",
    "\n",
    "The upper limit of the torque limiter vary as a function of the velocity and follows the curve Torque-Speed presented previously. To compute the maximum torque available, we assume the power constant equal to 101kW, which is quite true if we look at the Power-Speed curve presented previously. The Modelica code of the torque limiter is given below. "
   ]
  },
  {
   "cell_type": "markdown",
   "metadata": {},
   "source": [
    "<img src=\"AA/AC_PM_Motor.svg\" width=\"600\">\n",
    "<div style=\"text-align:center\"><span style=\"color:black; font-family:Georgia; font-size:1.2em;\">[6] Modelica model of the BLDC Motor</span></div>\n",
    "\n",
    "> #### *Code Mechanical to Electrical component :*\n",
    "\n",
    "> equation <br>\n",
    "  Connections.root(pp.reference);     //This is the root for reference.gamma <br>\n",
    "  Connections.branch(pp.reference, np.reference);    //non-breakable branch <br>\n",
    "  pp.reference.gamma = np.reference.gamma;    //it doesn't change the angle <br>\n",
    "  \n",
    ">/* Input */ <br>\n",
    "  Omega = der(flange.phi); <br>\n",
    "  Torque = -flange.tau; <br>\n",
    "  \n",
    ">/* define standard two port component */ <br>\n",
    "  u = pp.v - np.v; <br>\n",
    "  i = pp.i; <br>\n",
    "  pp.i + np.i = Complex(0); <br>\n",
    "   \n",
    ">/* Compute E */ <br>\n",
    "  E = Kv * Omega; <br>\n",
    "  \n",
    ">/* Compute Iq */ <br>\n",
    "  Torque = 1.5 * Kv * Iq; <br>\n",
    "  \n",
    ">/* Compute omega */ <br>\n",
    "  omega = Npoles * Omega; <br>\n",
    "  \n",
    ">/* Compute Id */ <br>\n",
    "  if OverSpeed then <br>\n",
    "    (Vdc / 2) ^ 2 = (E - Ld * omega * Id) ^ 2 + (Lq * omega * Iq) ^ 2; <br>\n",
    "  else <br>\n",
    "    Id = 0; <br>\n",
    "  end if; <br>\n",
    "  \n",
    ">/* Compute I */ <br>\n",
    "  I = sqrt(Id ^ 2 + Iq ^ 2); <br>\n",
    "  \n",
    ">/* Compute Psi */ <br>\n",
    "//Division by 0 <br>\n",
    "  if I == 0 then <br>\n",
    "    Psi = 0; <br>\n",
    "  else <br>\n",
    "    Psi = Modelica.Math.asin(Id / I); <br>\n",
    "  end if; <br>\n",
    "  \n",
    ">/* Output */ <br>\n",
    "  u.re = 0; <br>\n",
    "  u.im = E; <br>\n",
    "  i.re = -Id; <br>\n",
    "  i.im = Iq; <br>\n",
    "  der(pp.reference.gamma) = omega; <br>\n",
    "equation\n",
    "\n",
    "<br>\n",
    "<br>\n",
    "\n",
    "> #### *Code Torque limiter :*\n",
    "\n",
    ">equation <br>\n",
    "  LimitLow = -260; <br>\n",
    "  if OverSpeed then <br>\n",
    "    LimitHigh = P / Omega; <br>\n",
    "  else <br>\n",
    "    LimitHigh = 260; <br>\n",
    "  end if;"
   ]
  },
  {
   "cell_type": "markdown",
   "metadata": {},
   "source": [
    "###### 1.3 Parameters \n",
    "As already seen during the modelling of the DC motor : $k_v=\\frac{E_{RMSpp}\\sqrt{2}}{\\Omega\\sqrt{3}}$ <br>\n",
    "From $k_v$ we can easily compute $k_T=\\frac{3}{2}k_v$. <br>\n",
    "The thermal parameters of the AC motor are the same as those used for the DC motor."
   ]
  },
  {
   "cell_type": "code",
   "execution_count": 2,
   "metadata": {},
   "outputs": [],
   "source": [
    "import math as m\n",
    "import numpy as np\n",
    "import matplotlib.pyplot as plt\n",
    "π = m.pi\n",
    "\n",
    "###Characteristics AC Motor HKW242_225DAB Parvex\n",
    "#Mechanical\n",
    "Ps1    =  101000 #[k] power\n",
    "Mo     =  260    #[N.m] low speed torque\n",
    "Nb     =  3710   #[rpm] base speed (speed at which deflux starts)\n",
    "Nmax   =  13000  #[rpm] max speed\n",
    "M      =  70     #[kg] motor mass\n",
    "J      =  0.105  #[kg.m²] rotor inertia\n",
    "Nppoles = 4      #[]    number of pole pairs\n",
    "#Electrical\n",
    "Udc    =  540    #[V] DC voltage \n",
    "Io     =  206    #[Arms] low speed current\n",
    "Rb     =  0.0424 #[Ω] resistance phase to phase\n",
    "Ld_pp  =  0.00116 #[H]   direct inductance (phase-phase)\n",
    "Lq_pp  =  0.00115 #[H]   transverse inductance (phase-phase)\n",
    "#Thermal\n",
    "Tth    =  4      #[min] thermal time constant \n",
    "Tcool  =  25     #[°C] coolant temperature\n",
    "\n",
    "#To compute the EMF constant\n",
    "E      =  81.5   #[Vrms] \n",
    "Nemf   =  1000   #[rpm]  \n",
    "\n",
    "#Parameters computed in \"03_Traction_Chain_Modelling\"\n",
    "Rwheel = 0.356   #[m] wheel radius\n",
    "N      = 13.42   #[] reduction ratio    "
   ]
  },
  {
   "cell_type": "code",
   "execution_count": 3,
   "metadata": {},
   "outputs": [
    {
     "name": "stdout",
     "output_type": "stream",
     "text": [
      "R = 0.0212 Ω          kv = 0.6355 Nm/A          kt = 0.9532 Nm/A          Ld = 0.00058 H          Lq = 0.00057 H\n",
      "Rth = 0.0296 K/W          Cth = 8096.79 J/K          J = 0.105 kg.m²          Nppoles = 4\n"
     ]
    }
   ],
   "source": [
    "###Parameters Brushless Motor Model\n",
    "R   = Rb/2                                   #[Ω] resistance of one phase\n",
    "Ld  = Ld_pp/2                                #[H] direct inductance of one phase\n",
    "Lq  = Lq_pp/2                                #[H] transverse inductance of one phase\n",
    "kv  = E*m.sqrt(2)*60/(m.sqrt(3)*Nemf*2*π)    #[V.s] speed constant\n",
    "kt  = 3/2*kv                                 #[N.m/A] torque constant\n",
    "Pth = 3/2*Rb*Io**2                           #[W] Joule losses\n",
    "Rth = 80/Pth                                 #[K/W] thermal resistance\n",
    "Cth = Tth*60/Rth                             #[J/K] heat capacity\n",
    "\n",
    "t = \"          \"\n",
    "print(\"R = %0.4f Ω\" %R +t+ \"kv = %0.4f Nm/A\" %kv +t+ \"kt = %0.4f Nm/A\" %kt +t+ \"Ld = %0.5f H\" %Ld +t+ \"Lq = %0.5f H\" %Lq)\n",
    "print(\"Rth = %0.4f K/W\" %Rth +t+ \"Cth = %0.2f J/K\" %Cth +t+ \"J = %0.3f kg.m²\" %J +t+ \"Nppoles = %0.0f\" %Nppoles)"
   ]
  },
  {
   "cell_type": "markdown",
   "metadata": {},
   "source": [
    "##### 1.4 Tests and Validation \n",
    "A test is conducted with both Modelica and Python. The current and voltage of the motor as well as $\\phi$ and $\\psi$ are computed as a function of the velocity of the motor under load. Both studies give the same results. The Python study is presented below. "
   ]
  },
  {
   "cell_type": "code",
   "execution_count": 5,
   "metadata": {},
   "outputs": [
    {
     "data": {
      "text/plain": [
       "Text(0, 0.5, 'φ (°)')"
      ]
     },
     "execution_count": 5,
     "metadata": {},
     "output_type": "execute_result"
    },
    {
     "data": {
      "text/plain": [
       "<Figure size 432x288 with 0 Axes>"
      ]
     },
     "metadata": {},
     "output_type": "display_data"
    },
    {
     "data": {
      "image/png": "[encoded data removed]",
      "text/plain": [
       "<Figure size 1152x576 with 4 Axes>"
      ]
     },
     "metadata": {
      "needs_background": "light"
     },
     "output_type": "display_data"
    }
   ],
   "source": [
    "###Plot Ψ=f(Ω) for Cm=Cmax \n",
    "\n",
    "list_Ωrpm  = np.linspace(1, Nmax, 13001)  #[rpm] motor speed\n",
    "Ωb     = Nb     #[rpm] base speed\n",
    "P      = Ps1    #[W] motor power (assumed constant)\n",
    "list_V = []\n",
    "list_I = []\n",
    "list_Ψ = []\n",
    "list_Ψdeg = []\n",
    "list_φ = []\n",
    "list_φdeg = []\n",
    "\n",
    "for Ωrpm in list_Ωrpm :\n",
    "    Ω     = Ωrpm*2*π/60         #[rad/s] motor speed  \n",
    "    E     = kv*Ω                #[V] fem\n",
    "    welec = Nppoles*Ω           #[rad/s] electrical speed \n",
    "    \n",
    "    if Ωrpm < Ωb :  #--> no fieldweakening\n",
    "        Cm   = Mo               #[Nm] torque\n",
    "        Iq   = Cm/kt            #[A] transverse current\n",
    "        Id   = 0                #[A] direct current\n",
    "    else :          #--> fieldweakening\n",
    "        Cm   = P/Ω              #[Nm] torque\n",
    "        Iq   = Cm/kt            #[A] transverse current\n",
    "        if (Udc/m.sqrt(3))**2 > (Lq*welec*Iq)**2 :\n",
    "            Id   = (E - m.sqrt((Udc/m.sqrt(3))**2-(Lq*welec*Iq)**2))/(Ld*welec)  #[A] direct current\n",
    "        else : \n",
    "            print(\"Impossible to verify (Vdc/2)² = (E - Ld.welec.Id)² + (Lq.welec.Iq)² from Ω = %0.0f rpm\" %Ωrpm)\n",
    "            break\n",
    "    \n",
    "    Xd = Ld*welec             #[H/s] direct reactance\n",
    "    Xq = Lq*welec             #[H/s] transverse reactance\n",
    "    \n",
    "    #Compute I\n",
    "    I = m.sqrt(Id**2+Iq**2)  #[A] motor current\n",
    "    list_I.append(I)\n",
    "    \n",
    "    #Compute Ψ and φ\n",
    "    argI  = m.atan(Id/Iq)    #[rad] current phase \n",
    "    argE  = 0                #[rad] fem phase \n",
    "    argV  = m.atan(Xq*Iq/(E+R*I-Xd*Id))    #[rad] motor voltage phase --> RI non negligeable for low speeds\n",
    "    Ψ     = argI - argE      #[rad] phase shift between I and E\n",
    "    Ψdeg  = Ψ*(180/π)        #[°] \n",
    "    φ     = argV - argI      #[rad] phase shift between I and U\n",
    "    φdeg  = φ*(180/π)        #[°]\n",
    "    list_Ψ.append(Ψ) \n",
    "    list_Ψdeg.append(Ψdeg) \n",
    "    list_φ.append(φ)\n",
    "    list_φdeg.append(φdeg)\n",
    "    \n",
    "    #Compute V\n",
    "    V = m.sqrt((E-Xd*Id)**2+(Xq*Iq)**2)     #[V] motor voltage --> RI neglected\n",
    "    list_V.append(V)\n",
    "    \n",
    "    \n",
    "#Plot\n",
    "Vdata = Udc/m.sqrt(3)              #[V] max motor voltage - datasheet\n",
    "list_Vdata = [Vdata for i in list_Ωrpm]\n",
    "Idata = Io*m.sqrt(2)               #[A] max motor current - datasheet\n",
    "list_Idata = [Idata for i in list_Ωrpm]\n",
    "\n",
    "plt.figure()\n",
    "plt.figure(figsize=(16, 8))\n",
    "\n",
    "plt.subplot(221)\n",
    "plt.plot(list_Ωrpm[:len(list_V)], list_V)\n",
    "plt.plot(list_Ωrpm[:len(list_V)], list_Vdata, label=\"Vmax\")\n",
    "plt.xlabel(\"Motor speed (rpm)\")\n",
    "plt.ylabel(\"Motor voltage (V)\")\n",
    "plt.legend() \n",
    "\n",
    "plt.subplot(222)\n",
    "plt.plot(list_Ωrpm[:len(list_I)], list_I, label=\"Computed\")\n",
    "plt.plot(list_Ωrpm[:len(list_I)], list_Idata, label=\"Datasheet\")\n",
    "plt.xlabel(\"Motor speed (rpm)\")\n",
    "plt.ylabel(\"Motor current (A)\")\n",
    "plt.axis([0, Nmax, 0, 400])\n",
    "plt.legend() \n",
    "\n",
    "plt.subplot(223)\n",
    "plt.plot(list_Ωrpm[:len(list_Ψdeg)], list_Ψdeg)\n",
    "plt.xlabel(\"Motor speed (rpm)\")\n",
    "plt.ylabel(\"Ψ (°)\")\n",
    "\n",
    "plt.subplot(224)\n",
    "plt.plot(list_Ωrpm[:len(list_φdeg)], list_φdeg)\n",
    "plt.xlabel(\"Motor speed (rpm)\")\n",
    "plt.ylabel(\"φ (°)\")\n",
    "      \n"
   ]
  },
  {
   "cell_type": "markdown",
   "metadata": {},
   "source": [
    "##### 1.5 Model Limits\n",
    "As we can see on the graph above :\n",
    "- With the speed constant computed $k_v$ and the formula $C_m=\\frac{3}{2}k_vIcos(\\psi)$ that links $I$ to $C_m$, we don't find the current given in the datasheet for the maximum torque. <br>\n",
    "- With the inductances given in the datasheet, the motor is not able to reach the base speed without fieldweakening. Moreover the current exceeds the maximum value allowed. The reason may be that the inductances given have been measured without load, and therefore would be smaller for high current. \n",
    "- We have a discontinuity when fieldweakening starts"
   ]
  },
  {
   "cell_type": "markdown",
   "metadata": {},
   "source": [
    "### 2. Inverter Model\n",
    "\n",
    "##### 2.1 Modelica Model and Equations\n",
    "The modelica model of the inverter is shown below. <br>\n",
    "The power losses are computed using the formulas developped by JF.Roche and presented below. To compute the commutation losses in the diode, we use another formula given in Reference 3 with a slight modification : $P_{diode_{com}}=\\frac{fQ_{rr}V_{DC}I}{4\\pi I_{Ref}}$. This formula allows to use $Qrr$ instead of $E_{Rec}$ that is not given in the datasheet.\n",
    "\n",
    "In the formulas, M is the modulation index defined as : $M=\\frac{\\sqrt{3}V}{V_{DC}}$\n",
    "\n",
    "> [3] *Jean-François ROCHE. [Definition d'un dissipateur thermique en milieu industriel](https://www-techniques-ingenieur-fr.gorgone.univ-toulouse.fr/base-documentaire/42245210-composants-actifs-en-electronique-de-puissance/download/d3117/definition-d-un-dissipateur-thermique-en-milieu-industriel.html)* <br>\n",
    "> [4] *Joseph FABRE. [Etude et mise en oeuvre de modules de puissance MOSFET SiC pour leurs futures utilisations dans les convertisseurs ferroviaires](https://oatao.univ-toulouse.fr/16615/8/fabre_partie_2_sur_2.pdf)* (Appendix X)"
   ]
  },
  {
   "cell_type": "markdown",
   "metadata": {},
   "source": [
    "<img src=\"./05/InverterAC_QS.svg\" width=\"700\">\n",
    "<div style=\"text-align:center\"><span style=\"color:black; font-family:Georgia; font-size:1.2em;\">[7] Inverter</span></div>\n",
    "\n",
    "### Code Inverter : \n",
    "\n",
    "equation <br>\n",
    "// DC Voltage and current <br>\n",
    "  Vdc = p_DCbus.v - n_DCbus.v; <br>\n",
    "  0 = p_DCbus.i + n_DCbus.i; <br>\n",
    "  Idc = p_DCbus.i; <br>\n",
    "  \n",
    "// Powers <br>\n",
    "  P_DC = Vdc * Idc; <br>\n",
    "  P_AC = 3 / 2 * V * I * cosPHI; <br>\n",
    "  P_DC = P_AC + P_6IGBT + P_6Diode; <br>\n",
    "  \n",
    "// Thermic flow <br>\n",
    "  P_6IGBT + heatPort_IGBT.Q_flow = 0; <br>\n",
    "  P_6Diode + heatPort_Diode.Q_flow = 0; <br>\n",
    "  \n",
    "//Output port <br>\n",
    "  mOut = m; <br>\n",
    "  ImaxOut = I; <br>\n",
    "  cosPhiOut = cosPHI; <br>\n",
    "  \n",
    "algorithm <br>\n",
    "// Motor current and voltage <br>\n",
    "  I := sqrt(2) * sqrt(pp.i.re ^ 2 + pp.i.im ^ 2); <br>\n",
    "  V := sqrt(2) * sqrt(pp.v.re ^ 2 + pp.v.im ^ 2); <br>\n",
    "  cosPHI := cos(Modelica.Math.atan2(ACsense.U_im, ACsense.U_re) - Modelica.Math.atan2(ACsense.I_im, ACsense.I_re) - Modelica.Constants.pi); <br>\n",
    "\n",
    "-------------------------------------------------------------------------- <br>\n",
    " Inverter losses calculation <br>\n",
    "-------------------------------------------------------------------------- <br>\n",
    "// Modulation index <br>\n",
    "  m := 2 * V / Vdc; <br>\n",
    "  \n",
    "//---------- IGBT ------------ <br>\n",
    "// Conduction <br>\n",
    "  P_IGBT_cond := 1 / 2 * (Vce0 * I / pi + Rce0 * I ^ 2 / 4) + m * cosPHI * (Vce0 * I / 8 + Rce0 * I ^ 2 / 3 / pi); <br>\n",
    "// Commutation <br>\n",
    "  P_IGBT_com := f / pi * (Eon + Eoff) * (Vdc / Vcc_ref) * (I / I_ref); <br>\n",
    "// Total <br>\n",
    "  P_6IGBT := 6 * (P_IGBT_cond + P_IGBT_com); <br>\n",
    "  \n",
    "//---------- Diodes ----------- <br>\n",
    "// Conduction <br>\n",
    "  P_Diode_cond := 1 / 2 * (Vf0 * I / pi + Rf0 * I ^ 2 / 4) - m * cosPHI * (Vf0 * I / 8 + Rf0 * I ^ 2 / 3 / pi); <br>\n",
    "// Commutation <br>\n",
    "  P_Diode_com := f / pi * Qrr / 4 * Vdc * I / I_ref; <br>\n",
    "// Total <br>\n",
    "  P_6Diode := 6 * (P_Diode_cond + P_Diode_com); <br>\n",
    "equation <br>\n",
    "\n",
    "<img src=\"./05/Formulas_Inverter.JPG\" width=\"800\">\n",
    "<div style=\"text-align:center\"><span style=\"color:black; font-family:Georgia; font-size:1.2em;\">[8] Formulas inverter losses</span></div>"
   ]
  },
  {
   "cell_type": "markdown",
   "metadata": {},
   "source": [
    "###### 2.2 Parameters \n",
    "The inverter parameters are modeled constant and chosen equal to the parameters given in the datasheet of the SKM 400GB123D IGBT module ([datasheet)](https://www.galco.com/techdoc/sekg/skm400gb123d_dat.pdf) for T=125°C and typical use.\n"
   ]
  },
  {
   "cell_type": "code",
   "execution_count": 7,
   "metadata": {},
   "outputs": [],
   "source": [
    "###Parameters SKM 400GB123D - Typical use - T=125°C\n",
    "#IGBT\n",
    "Vceo    = 1.6     #[V] Voltage drop\n",
    "Rceo    = 5e-3    #[Ω] Resistance \n",
    "Eon     = 38e-3   #[J] Energy Loss when switched on at reference operating point\n",
    "Eoff    = 40e-3   #[J] Energy Loss when switched off at reference operating point\n",
    "Vce_ref = 600     #[V] Reference voltage\n",
    "I_ref   = 300     #[A] Reference current\n",
    "\n",
    "#Diode\n",
    "Vfo = 1.15        #[V] Voltage drop\n",
    "Rfo = 3.5e-3      #[Ω] Resistance\n",
    "Qrr = 13e-6       #[C] Electrical charge stored \n",
    "\n",
    "f = 10e3          #[Hz] switching frequency"
   ]
  },
  {
   "cell_type": "markdown",
   "metadata": {},
   "source": [
    "##### 2.3 Tests and Validation\n",
    "A test is conducted with both Modelica and Python. The power losses in the inverter are computed as a function of the velocity of the motor under load. Both studies give the same results. The Python study is presented below. "
   ]
  },
  {
   "cell_type": "code",
   "execution_count": 8,
   "metadata": {},
   "outputs": [
    {
     "name": "stdout",
     "output_type": "stream",
     "text": [
      "<class 'list'>\n"
     ]
    },
    {
     "data": {
      "text/plain": [
       "<Figure size 432x288 with 0 Axes>"
      ]
     },
     "metadata": {},
     "output_type": "display_data"
    },
    {
     "data": {
      "image/png": "[encoded data removed]",
      "text/plain": [
       "<Figure size 1152x360 with 2 Axes>"
      ]
     },
     "metadata": {
      "needs_background": "light"
     },
     "output_type": "display_data"
    }
   ],
   "source": [
    "### Power losses\n",
    "list_P_IGBT_cond  = []\n",
    "list_P_IGBT_com   = []\n",
    "list_P_Diode_cond = []\n",
    "list_P_Diode_com  = []\n",
    "\n",
    "for i in range(len(list_Ωrpm)) :\n",
    "    I = list_I[i]   #[A] motor current\n",
    "    φ = list_φ[i]   #[rad] phase shift between U and I\n",
    "    V = list_V[i]   #[V] motor voltage\n",
    "    mi = 2*V/Udc    #[] modulation index\n",
    "    \n",
    "    #IGBT losses\n",
    "    P_IGBT_cond  = 1/2*(Vceo*I/π + Rceo*I**2/4) + mi*m.cos(φ)*(Vceo*I/8 + Rceo*I**2/(3*π)) \n",
    "    P_IGBT_com   = f/π*(Eon+Eoff)*(Udc/Vce_ref)*(I/I_ref)\n",
    "    list_P_IGBT_cond.append(P_IGBT_cond)\n",
    "    list_P_IGBT_com.append(P_IGBT_com)\n",
    "\n",
    "    #Diode losses\n",
    "    P_Diode_cond = 1/2*(Vfo*I/π + Rfo*I**2/4) - mi*m.cos(φ)*(Vfo*I/8 + Rfo*I**2/(3*π))\n",
    "    P_Diode_com  = f/π*Qrr/4*Udc*I/I_ref\n",
    "    list_P_Diode_cond.append(P_Diode_cond)\n",
    "    list_P_Diode_com.append(P_Diode_com)\n",
    "    \n",
    "    \n",
    "plt.figure()\n",
    "plt.figure(figsize=(16, 5))\n",
    "\n",
    "plt.subplot(121)\n",
    "plt.plot(list_Ωrpm, list_P_IGBT_cond, label=\"Conduction\")\n",
    "plt.plot(list_Ωrpm, list_P_IGBT_com, label=\"Commutation\")\n",
    "plt.xlabel(\"Motor speed (rpm)\")\n",
    "plt.ylabel(\"Power losses (W)\")\n",
    "plt.title(\"IGBT\")\n",
    "plt.legend() \n",
    "\n",
    "plt.subplot(122)\n",
    "plt.plot(list_Ωrpm, list_P_Diode_cond, label=\"Conduction\")\n",
    "plt.plot(list_Ωrpm, list_P_Diode_com, label=\"Commutation\")\n",
    "plt.xlabel(\"Motor speed (rpm)\")\n",
    "plt.ylabel(\"Power losses (W)\")\n",
    "plt.title(\"Diode\")\n",
    "plt.legend() \n",
    "\n",
    "print(list)"
   ]
  },
  {
   "cell_type": "markdown",
   "metadata": {},
   "source": [
    "|  | IGBT conduction | IGBT commutation | IGBT tot | Diode conduction | Diode commutation | Diode tot | Inverter tot |\n",
    "| --- | --- | --- | --- | --- | --- | --- | --- |\n",
    "| Power losses (W) | 203 | 203 | 406 | 20 | 5 | 25 | 2586 |"
   ]
  },
  {
   "cell_type": "code",
   "execution_count": null,
   "metadata": {},
   "outputs": [],
   "source": []
  }
 ],
 "metadata": {
  "kernelspec": {
   "display_name": "Python 3",
   "language": "python",
   "name": "python3"
  },
  "language_info": {
   "codemirror_mode": {
    "name": "ipython",
    "version": 3
   },
   "file_extension": ".py",
   "mimetype": "text/x-python",
   "name": "python",
   "nbconvert_exporter": "python",
   "pygments_lexer": "ipython3",
   "version": "3.8.3"
  }
 },
 "nbformat": 4,
 "nbformat_minor": 4
}
