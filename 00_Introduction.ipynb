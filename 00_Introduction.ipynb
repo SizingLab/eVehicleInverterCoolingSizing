{
 "cells": [
  {
   "cell_type": "markdown",
   "metadata": {
    "slideshow": {
     "slide_type": "slide"
    }
   },
   "source": [
    "<img src=\"./pictures/logo-insa.png\" style=\"float:right; max-width: 60px; display: inline\" alt=\"INSA\" /></a>\n"
   ]
  },
  {
   "cell_type": "markdown",
   "metadata": {
    "slideshow": {
     "slide_type": "slide"
    }
   },
   "source": [
    "# Sizing of a power electronics converter for electric mobility: application to last mile delivery\n",
    "\n",
    "*This set of documents aims at to give an introduction on the use of Python and Jupyter notebooks for the sizing of power electronic converters.*\n",
    "\n",
    "*Written by Marc Budinger (mbudinge@insa-toulouse.fr) , Ion Hazuyk (hazyuk@insa-toulouse.fr), Yann Bocquet (bocquet@etud.insa-toulouse.fr) and Paul Cavailles (pcavaill@etud.insa-toulouse.fr), INSA Toulouse, France*\n"
   ]
  },
  {
   "cell_type": "markdown",
   "metadata": {},
   "source": [
    "### Project \n",
    "\n",
    "The 2020-2021 project for the year focuses on the sizing of a power converter for an electric vehicle. More precisely, it aims to study and define the design of the converter of the traction chain according to the type of mission, the degrees of freedom of the converters and their use while taking into account the cooling system.\n",
    "\n",
    "You will have to work in teams of 4. The evaluation will be done on :\n",
    "- your activity and ability to propose solutions during work sessions\n",
    "- your mastery of the key concepts of the module and their implementation\n",
    "- your sizing notebook and the exploitation that you will make of it.\n"
   ]
  },
  {
   "cell_type": "markdown",
   "metadata": {
    "slideshow": {
     "slide_type": "slide"
    }
   },
   "source": [
    "### Table of contents\n",
    "\n",
    "##### *Architecture & sizing scenarios*\n",
    "- [Case study and system architecture](01_CaseStudy.ipynb) [(Correction)](01_CaseStudy_correction.ipynb)\n",
    "- [Mission profiles analysis](02_MissionProfileAnalysis.ipynb) [(Correction)](02_MissionProfileAnalysis_correction.ipynb)\n",
    "\n",
    "##### *Simulation models*\n",
    "- [Traction chain modeling](03_Traction_Chain_Modeling.ipynb) [(Correction)](03_Traction_Chain_Modeling_correction.ipynb) \n",
    "- [Annexe AC : motor and inverter modeling](AA_Traction_Chain_AC.ipynb)\n",
    "\n",
    "##### *Estimation models* \n",
    "- [Cold plate and pipes network](05_ColdPlate.ipynb) [(Correction)](05_ColdPlate_correction.ipynb)\n",
    "- [Fan and pump](06_FanPump.ipynb) [(Correction)](06_FanPump_correction.ipynb)\n",
    "- [Radiator](07_Radiator.ipynb) [(Correction)](07_Radiator_correction.ipynb)\n",
    "\n",
    "##### *Sizing code* \n",
    "- [Sizing code on a static point](08_converter_sizing_static.ipynb) [(Correction)](08_converter_sizing_static_correction.ipynb)\n",
    "- [Annexe AB : Exemple of a generic sizing code](AB_OptimizationExample.ipynb) \n",
    "\n"
   ]
  },
  {
   "cell_type": "markdown",
   "metadata": {
    "slideshow": {
     "slide_type": "slide"
    }
   },
   "source": [
    "### Remarks\n",
    "\n",
    "This document has been written with Jupyter Notebook. The Jupyter Notebook is an open-source web application that allows you to create and share documents that contain live code, equations, visualizations and narrative text. \n",
    "\n",
    "More informations about Jupyter can be found [here](http://jupyter.org/).\n",
    "\n",
    "The \"live\" code is python 3 with numpy, scipy packages. Jupyter and a lot of scientific packages are included in the [Anaconda](https://www.anaconda.com/what-is-anaconda/) python distribution. \n",
    "\n",
    "The narrative text is formatting with markdown section. Here is a short tutorial about the use of the [markdown](http://www.markdowntutorial.com) standard.  \n",
    "\n",
    "[RISE](https://github.com/damianavila/RISE) allows you to instantly turn your Jupyter Notebooks into a slideshow.\n",
    "\n",
    "[Jupyter Nbextensions Configurator](https://github.com/Jupyter-contrib/jupyter_nbextensions_configurator) provides configuration interfaces for notebook extensions (nbextensions) (Here a [List of extensions](https://jupyter-contrib-nbextensions.readthedocs.io/en/latest/index.html))\n",
    "\n",
    "For Matlab users, you can find [here](http://mathesaurus.sourceforge.net/matlab-python-xref.pdf) a quick reference\n",
    "for switching from matlab to an open-source environment, such as Python, Scilab, Octave and Gnuplot, or R for numeric processing and data visualisation.\n",
    "\n"
   ]
  },
  {
   "cell_type": "code",
   "execution_count": null,
   "metadata": {},
   "outputs": [],
   "source": []
  }
 ],
 "metadata": {
  "kernelspec": {
   "display_name": "Python 3",
   "language": "python",
   "name": "python3"
  },
  "language_info": {
   "codemirror_mode": {
    "name": "ipython",
    "version": 3
   },
   "file_extension": ".py",
   "mimetype": "text/x-python",
   "name": "python",
   "nbconvert_exporter": "python",
   "pygments_lexer": "ipython3",
   "version": "3.8.3"
  }
 },
 "nbformat": 4,
 "nbformat_minor": 4
}
