{
 "cells": [
  {
   "cell_type": "markdown",
   "source": [
    "<img src=\"./01/logo-insa.png\" style=\"float:right; max-width: 60px; display: inline\" alt=\"INSA\" /></a>"
   ],
   "metadata": {}
  },
  {
   "cell_type": "markdown",
   "source": [
    "# Analysis of sizing scenarios at inverter level\n",
    "\n",
    "*Written by Marc Budinger and Yann Bocquet, INSA Toulouse, France*\n",
    "\n",
    "We are now going to model the different components of the traction chain (wheel, reducer, motor) in order to assess the voltages and currents to be supplied by the inverter. The voltage / current cycles obtained will subsequently make it possible to evaluate the losses within the converter and to manage the thermal sizing constraints."
   ],
   "metadata": {}
  },
  {
   "cell_type": "markdown",
   "source": [
    "### 1. Traction Chain architecture and components\n",
    "\n",
    "#### 1.1. Global architecture\n",
    "The traction chain with the motor, the power converter, the battery, the reduction gear and the wheels is now added to the previous vehicle model developped. The cooling system is not modeled at this time and will be developped later."
   ],
   "metadata": {}
  },
  {
   "cell_type": "markdown",
   "source": [
    "*Traction chain principle*  \r\n",
    "![TractionChain](03/TractionChainPrinciple.png)\r\n"
   ],
   "metadata": {}
  },
  {
   "cell_type": "markdown",
   "source": [
    "#### 1.2. Wheels\n",
    "The radius of the wheels are chosen equal to 356mm, which corresponds to a 235/65 R16 tyre, which is the standard model for Daily IVECO Van Euro 6 vehicles [(link)](https://www.iveco.com/DailyBusiness/img/doc/BTS_L1612301MASTER_05-16.pdf) (page 26)."
   ],
   "metadata": {}
  },
  {
   "cell_type": "code",
   "execution_count": 1,
   "source": [
    "Rwheel = 0.356   # [m] Wheel radius"
   ],
   "outputs": [],
   "metadata": {}
  },
  {
   "cell_type": "markdown",
   "source": [
    "#### 1.3. Battery\n",
    "The battery is for now modeled as an ideal voltage source. The typical voltage levels of the batteries of this type of vehicles are between 300 and 400V. We will assume for the following a voltage of 300V."
   ],
   "metadata": {}
  },
  {
   "cell_type": "code",
   "execution_count": 2,
   "source": [
    "Ubat = 300  # [V] Battery voltage"
   ],
   "outputs": [],
   "metadata": {}
  },
  {
   "cell_type": "markdown",
   "source": [
    "#### 1.4. Motor\n",
    "\n",
    "#### 1.4.1. Selected motor\n",
    "The brushless motor has been selected into the HKW range of Parvex motor ([catalogue](http://parkerstore.lv/pdf/cat4/192_490123_motion-control_products.pdf) see p183). HKW motors are high performance permanent magnet synchronous servomotors for spindle applications up to 230 kW. Delivered as separate components to be integrated into the mechanical structure of the machine, HKW motors benefit from the use of field weakening, in order to achieve both high torque at slow speed, and very high maximum speed at constant power.\n",
    "\n",
    "*Parvex HKW motor with constant power zone*  \n",
    "<img src=\"03/HWK_Motor_TorqueSpeed.png\" width=\"500\">\n",
    "\n",
    "The selected motor is given below:  \n",
    "\n",
    "*Parvex HKW242_225DAB Datasheet*  \n",
    "<img src=\"03/Datasheet1.JPG\" width=\"500\">\n",
    "<img src=\"03/Datasheet2.JPG\" width=\"500\">\n",
    "\n",
    "This motor is an industrial motor typically used for driving machine tool spindles. It is therefore not an motor specifically developed for the motorization of vehicles. It can however be controlled in defluxing mode in order to present a constant power characteristic well suited to the motorization needs of road vehicles. It only requires a fixed ratio reducer and thus avoids the use of a gearbox with several ratios.\n",
    "\n",
    "**Remark 1**: Unlike electric vehicle motors, it does not present a strong difference between direct and quadratic inductance (Ld and Lq) in order to  increase torque thanks reluctance effect. The figure below shows a 2010 Prius engine rotor with V-shaped magnets.\n",
    "For what follows, however, we will limit ourselves to the case Ld = Lq which simplify the modeling.\n",
    "\n",
    "*V-shaped Interior permanent magnet (IPM) rotor of a 2010 Prius motor ([source](https://www.mdpi.com/2075-1702/8/2/20/htm))*  \n",
    "<img src=\"03/VshapePrius.png\" width=\"200\">\n",
    "\n",
    "**Remark 2**: You can find more information about synchronous motor and inverter modeling in the the [Annex A](AA_Traction_Chain_AC.ipynb)."
   ],
   "metadata": {}
  },
  {
   "cell_type": "markdown",
   "source": [
    "#### 1.4.2. Gear reducer ratio\n",
    "\n",
    "> **Question:** select a reduction ratio compatible with max speed and max torque of the motor and which maximises power of the motor.\n",
    "Calculate the motor speeds corresponding to base speeds of 25 or 50 km/h.\n"
   ],
   "metadata": {}
  },
  {
   "cell_type": "markdown",
   "source": [
    "#### 1.4.3. Winding adaptation to application\n",
    "\n",
    "The selected motor doesn't fit with the battery voltage request of 300V with the standard winding (defined for a DC voltage of 540 V). However the winding can be adapted without major performances variation for the motor.\n",
    "\n",
    "> **Question:** Explain how to adapt winding parameters to a lower voltage motor and a different base speeds. A analysis of effect of turn numbers on back emf constant, winding resistance and inductance can be helpful.\n"
   ],
   "metadata": {}
  },
  {
   "cell_type": "markdown",
   "source": [
    "### 2. Traction chain simulation\n",
    "\n",
    "#### 2.1. Modelica model set-up\n",
    "\n",
    ">**Question:**  You now have all the characteristic parameters of the vehicle's powertrain. Set up the corresponding Modelica model using the supplied component models. Explain in your report the different control functions performed here.\n",
    "\n",
    "*Modelica model of the traction chain*  \n",
    "<img src=\"03/DriveTrainSimulation.png\" width=\"700\">\n",
    "\n",
    "Remarks: \n",
    "- Modelica models are based on the Parvex HKW242_225DAB brushless motor ([catalogue](http://parkerstore.lv/pdf/cat4/192_490123_motion-control_products.pdf)), while the inverter is modeled based on the SKM 400GB123D IGBT module ([datasheet)](https://www.galco.com/techdoc/sekg/skm400gb123d_dat.pdf). Adapt the parameters of the motor to the battery voltage.\n",
    "- The maximum output voltage of the inverter depends on the PWM used. The simplest PWM allows $U_{max}=\\frac{U_{DC}}{2}$, while a slightly more complex one allows $U_{max}=\\frac{U_{DC}}{\\sqrt{3}}$. We have chosen the 1st one. \n",
    "\n"
   ],
   "metadata": {}
  },
  {
   "cell_type": "markdown",
   "source": [
    "\n"
   ],
   "metadata": {}
  },
  {
   "cell_type": "markdown",
   "source": [
    "#### 2.2. Mission profiles simulation and comparison\n",
    "\n",
    ">**Questions:**  \n",
    "> - Configure the components (engine in particular) in order to simulate cycles 1 and 2 with a base speed of 25 or 50 km/h.  \n",
    "> - Compare the losses of the different cycles. Which cycle do you keep for the rest of the study?\n",
    "> - Modify the parameters of the inverter to correspond to a component in the Semitrans [range](https://www.semikron.com/products/product-lines/semitrans/semitrans-2-9.html) (select 600V, half-bridge, in production).\n",
    "> - Calculate the average losses in the diodes and in the IGBTs. Select the base speed and the component which minimize the losses. \n"
   ],
   "metadata": {}
  },
  {
   "cell_type": "code",
   "execution_count": null,
   "source": [],
   "outputs": [],
   "metadata": {}
  }
 ],
 "metadata": {
  "kernelspec": {
   "display_name": "Python 3",
   "language": "python",
   "name": "python3"
  },
  "language_info": {
   "codemirror_mode": {
    "name": "ipython",
    "version": 3
   },
   "file_extension": ".py",
   "mimetype": "text/x-python",
   "name": "python",
   "nbconvert_exporter": "python",
   "pygments_lexer": "ipython3",
   "version": "3.8.3"
  }
 },
 "nbformat": 4,
 "nbformat_minor": 4
}