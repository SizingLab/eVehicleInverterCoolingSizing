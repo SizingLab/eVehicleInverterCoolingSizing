{
 "cells": [
  {
   "cell_type": "markdown",
   "metadata": {},
   "source": [
    "<img src=\"./pictures/logo-insa.png\" style=\"float:right; max-width: 60px; display: inline\" alt=\"INSA\" />"
   ]
  },
  {
   "cell_type": "markdown",
   "metadata": {},
   "source": [
    "# Radiator\n",
    " \n",
    "*Written by Marc Budinger, INSA Toulouse, France*"
   ]
  },
  {
   "cell_type": "markdown",
   "metadata": {},
   "source": [
    "The radiator allows heat to be evacuated to the air outside the vehicle. A sufficient flow must be ensured in order to obtain an interesting transfer efficiency. The following figures taken from [[Tojcic2017](#References)] represent the air flow and the pressure trace in the compartment under the hood of the vehicle. Pressure drops must be compensated by the static pressure from vehicle speed or by the fan.\n",
    "\n",
    "*Illustration of airflow and pressure trace in vehicle underhood compartment*  \n",
    "<img src=\"07/PressureDropUnderHood.png\" width=\"600\">\n",
    "\n",
    "We will base and validate our calculations and models on an industrial [range](https://www.boydcorpdirect.com/store/heat-exchangers/) of liquid to air heat exchangers (copper tube-fin heat exchanger). These cross flow heat exchangers delivers efficient heat transfer with copper tubing expanded into copper cooling fins.\n",
    "\n",
    "*Copper Tube-Fin Liquid-to-Air Heat Exchanger*  \n",
    "<img src=\"07/CopperTubeHeatEchangerBoyd.png\" width=\"300\">\n"
   ]
  },
  {
   "cell_type": "markdown",
   "metadata": {},
   "source": [
    "## 1. Radiator efficiency estimation thanks NTU method\n",
    "\n",
    "The [Number of Transfer Units (NTU) Method](https://en.wikipedia.org/wiki/NTU_method) is used to calculate the rate of heat transfer in heat exchangers with a reduced amount of information:\n",
    "- the heat exchange flow: $\\dot{Q}=\\dot{m_h}c_h(T_{h,i}-T_{h,o})=\\dot{m_c}c_c(T_{c,o}-T_{c,i})$\n",
    "with mass flow $\\dot{m}$, specific heat capacity $c$, the temperatures at the inlet and outlet of the exchanger $T$. Indices $c$ and $f$ refer to hot and cold fluids.  \n",
    "\n",
    "- the efficiency: $\\epsilon=\\frac{\\dot{Q}}{\\dot{Q}_{max}}$ \n",
    "with $\\dot{Q}_{max}$ the maximum exchangeable power in an ideal case\n",
    "$\\dot{Q}_{max}=min(\\dot{m_h}c_h)(T_{h,i}-T_{c,i})$\n",
    "\n",
    "#### 1.1. $UA$ parameter and efficiency\n",
    "\n",
    "For a given geometry, the efficiency $\\epsilon$ can be calculated using correlations in terms of  \"heat capacity ratio\" $C_r= \\frac{C_{min}}{C_{max}} $\n",
    "and the number of transfer units $NTU=\\frac{UA}{C_{min}}$ (both dimensionless numbers) where   $U$ is the overall heat transfer coefficient and $A$ is the heat transfer area. For cross-flow heat exchangers with both fluids unmixed this relation is:  \n",
    "$\\epsilon=1-e^{\\frac{NTU^{0.22} (e^{-C_r NTU^{0.78}}-1)}{C_r}}$ \n",
    "\n",
    "> **Question:** Explain how to evaluate efficiency of this heat exchanger from the following curve. Give a numerical application for an airflow of $1.5m^3/min$ and a waterflow of $1.8 l/min$. Propose a way to estimate the $UA$ parameter of the heat exchanger.\n",
    "\n",
    "*Boyd component [information](https://www.boydcorpdirect.com/6110g1-copper-tube-fin-heat-exchanger/6110g1/)*  \n",
    "<img src=\"https://www.boydcorpdirect.com/assets/1/6/DimLarge/Heat-Exchanger-6110-Metric-Graph1.jpg?880\" width=\"500\">\n",
    "\n"
   ]
  },
  {
   "cell_type": "markdown",
   "metadata": {},
   "source": [
    "**Answers:**\n",
    "\n",
    "$\\epsilon=\\frac{\\dot{Q}}{\\dot{Q}_{max}}=\\frac{\\dot{Q}}{T_{h,i}-T_{c,i}} \\frac{1}{min(\\dot{m_h}c_h)}=\\frac{\\dot{Q}}{T_{h,i}-T_{c,i}} \\frac{1}{\\dot{m}_{air}c_{air}}$   \n",
    "The efficiency is thus the ratio of coordinates of the given figure.\n"
   ]
  },
  {
   "cell_type": "code",
   "execution_count": 3,
   "metadata": {},
   "outputs": [
    {
     "name": "stdout",
     "output_type": "stream",
     "text": [
      "Heat sink efficiency: 54.05 %\n"
     ]
    }
   ],
   "source": [
    "# Flows\n",
    "Flow_air=1.5/60 # [m^3/s] \n",
    "Flow_water=1.8e-3/60 # [m^3/s] \n",
    " \n",
    "# Specific heat capacity \n",
    "C_air=1003.5 # [J⋅kg−1⋅K−1] specific heat capacity cP of air\n",
    "C_water=4185 # [J⋅kg−1⋅K−1] specific heat capacity cP of water \n",
    "\n",
    "# Density\n",
    "Rho_water=998 # [kg/m^3 water density]\n",
    "Rho_air=1.18 # [kg/m^3] air density 25°C \n",
    "\n",
    "# Mass Flow and heat flow\n",
    "MassFlow_air=Rho_air*Flow_air # [kg/s]\n",
    "MassFlow_water=Rho_water*Flow_water # [kg/s]\n",
    "\n",
    "HeatFlow_air=C_air*MassFlow_air # [J/s]\n",
    "HeatFlow_water=C_water*MassFlow_water # [J/s]\n",
    "\n",
    "# Heat flow per degree\n",
    "Q_DT=16 # [W/K]\n",
    "\n",
    "# Water side\n",
    "Eps=Q_DT/HeatFlow_air\n",
    "\n",
    "print(\"Heat sink efficiency: %.2f %%\"%(Eps*100))"
   ]
  },
  {
   "cell_type": "markdown",
   "metadata": {},
   "source": [
    "#### 1.2. $UA$ estimation\n",
    "\n",
    "To estimate the $UA$ coefficient of this heat exchanger, will use the complete diagram and adjust thanks optimization this coefficient in order to fit the curve. First a dataframe is defined in order to store the usefull data."
   ]
  },
  {
   "cell_type": "code",
   "execution_count": 4,
   "metadata": {},
   "outputs": [
    {
     "data": {
      "text/html": [
       "<div>\n",
       "<style scoped>\n",
       "    .dataframe tbody tr th:only-of-type {\n",
       "        vertical-align: middle;\n",
       "    }\n",
       "\n",
       "    .dataframe tbody tr th {\n",
       "        vertical-align: top;\n",
       "    }\n",
       "\n",
       "    .dataframe thead th {\n",
       "        text-align: right;\n",
       "    }\n",
       "</style>\n",
       "<table border=\"1\" class=\"dataframe\">\n",
       "  <thead>\n",
       "    <tr style=\"text-align: right;\">\n",
       "      <th></th>\n",
       "      <th>AirFlow</th>\n",
       "      <th>Q/dT</th>\n",
       "      <th>Cmin</th>\n",
       "      <th>Efficiency</th>\n",
       "      <th>Cmax</th>\n",
       "      <th>Cr</th>\n",
       "    </tr>\n",
       "  </thead>\n",
       "  <tbody>\n",
       "    <tr>\n",
       "      <th>0</th>\n",
       "      <td>0.008333</td>\n",
       "      <td>8.0</td>\n",
       "      <td>9.86775</td>\n",
       "      <td>0.810722</td>\n",
       "      <td>125.2989</td>\n",
       "      <td>0.078754</td>\n",
       "    </tr>\n",
       "    <tr>\n",
       "      <th>1</th>\n",
       "      <td>0.016667</td>\n",
       "      <td>13.0</td>\n",
       "      <td>19.73550</td>\n",
       "      <td>0.658711</td>\n",
       "      <td>125.2989</td>\n",
       "      <td>0.157507</td>\n",
       "    </tr>\n",
       "    <tr>\n",
       "      <th>2</th>\n",
       "      <td>0.025000</td>\n",
       "      <td>16.0</td>\n",
       "      <td>29.60325</td>\n",
       "      <td>0.540481</td>\n",
       "      <td>125.2989</td>\n",
       "      <td>0.236261</td>\n",
       "    </tr>\n",
       "    <tr>\n",
       "      <th>3</th>\n",
       "      <td>0.033333</td>\n",
       "      <td>18.5</td>\n",
       "      <td>39.47100</td>\n",
       "      <td>0.468699</td>\n",
       "      <td>125.2989</td>\n",
       "      <td>0.315015</td>\n",
       "    </tr>\n",
       "    <tr>\n",
       "      <th>4</th>\n",
       "      <td>0.041667</td>\n",
       "      <td>20.5</td>\n",
       "      <td>49.33875</td>\n",
       "      <td>0.415495</td>\n",
       "      <td>125.2989</td>\n",
       "      <td>0.393768</td>\n",
       "    </tr>\n",
       "  </tbody>\n",
       "</table>\n",
       "</div>"
      ],
      "text/plain": [
       "    AirFlow  Q/dT      Cmin  Efficiency      Cmax        Cr\n",
       "0  0.008333   8.0   9.86775    0.810722  125.2989  0.078754\n",
       "1  0.016667  13.0  19.73550    0.658711  125.2989  0.157507\n",
       "2  0.025000  16.0  29.60325    0.540481  125.2989  0.236261\n",
       "3  0.033333  18.5  39.47100    0.468699  125.2989  0.315015\n",
       "4  0.041667  20.5  49.33875    0.415495  125.2989  0.393768"
      ]
     },
     "execution_count": 4,
     "metadata": {},
     "output_type": "execute_result"
    }
   ],
   "source": [
    "import pandas as pd\n",
    "import numpy as np\n",
    "\n",
    "df=pd.DataFrame({'AirFlow': np.array([0.5,1,1.5,2,2.5])*1/60, 'Q/dT':[8,13,16,18.5,20.5]})\n",
    "\n",
    "df['Cmin']=df.AirFlow*C_air*Rho_air\n",
    "\n",
    "df['Efficiency']=df['Q/dT']/df['Cmin']\n",
    "\n",
    "df['Cmax']=HeatFlow_water\n",
    "df['Cr']=df['Cmin']/df['Cmax']\n",
    "\n",
    "df"
   ]
  },
  {
   "cell_type": "markdown",
   "metadata": {},
   "source": [
    "A function is then created in order to minimize error and fit at best the curve."
   ]
  },
  {
   "cell_type": "code",
   "execution_count": 5,
   "metadata": {},
   "outputs": [
    {
     "name": "stdout",
     "output_type": "stream",
     "text": [
      "Best UA coefficient: 24.9 W/K\n"
     ]
    }
   ],
   "source": [
    "# Efficiency function for cross flow heat exchangers\n",
    "def efficiency(UA, Cmin, Cr):\n",
    "    NTU=UA/Cmin\n",
    "    return 1-np.exp(NTU**0.22*(np.exp(-Cr*NTU**0.78)-1)/Cr)\n",
    "\n",
    "# Error between function and industrial data\n",
    "def SumError(UA):\n",
    "    Error2 = (efficiency(UA, df['Cmin'], df['Cr']) - df['Efficiency'])**2\n",
    "    return np.sum(Error2)                         \n",
    "\n",
    "from scipy.optimize import minimize_scalar\n",
    "res = minimize_scalar(SumError)\n",
    "UA=res.x\n",
    "\n",
    "print(\"Best UA coefficient: %.1f W/K\"%UA)"
   ]
  },
  {
   "cell_type": "code",
   "execution_count": 6,
   "metadata": {},
   "outputs": [
    {
     "data": {
      "image/png": "[encoded data removed]",
      "text/plain": [
       "<Figure size 432x288 with 1 Axes>"
      ]
     },
     "metadata": {
      "needs_background": "light"
     },
     "output_type": "display_data"
    },
    {
     "data": {
      "text/html": [
       "<div>\n",
       "<style scoped>\n",
       "    .dataframe tbody tr th:only-of-type {\n",
       "        vertical-align: middle;\n",
       "    }\n",
       "\n",
       "    .dataframe tbody tr th {\n",
       "        vertical-align: top;\n",
       "    }\n",
       "\n",
       "    .dataframe thead th {\n",
       "        text-align: right;\n",
       "    }\n",
       "</style>\n",
       "<table border=\"1\" class=\"dataframe\">\n",
       "  <thead>\n",
       "    <tr style=\"text-align: right;\">\n",
       "      <th></th>\n",
       "      <th>AirFlow</th>\n",
       "      <th>Q/dT</th>\n",
       "      <th>Cmin</th>\n",
       "      <th>Efficiency</th>\n",
       "      <th>Cmax</th>\n",
       "      <th>Cr</th>\n",
       "      <th>NTU</th>\n",
       "      <th>EffiFit</th>\n",
       "    </tr>\n",
       "  </thead>\n",
       "  <tbody>\n",
       "    <tr>\n",
       "      <th>0</th>\n",
       "      <td>0.008333</td>\n",
       "      <td>8.0</td>\n",
       "      <td>9.86775</td>\n",
       "      <td>0.810722</td>\n",
       "      <td>125.2989</td>\n",
       "      <td>0.078754</td>\n",
       "      <td>2.519068</td>\n",
       "      <td>0.902288</td>\n",
       "    </tr>\n",
       "    <tr>\n",
       "      <th>1</th>\n",
       "      <td>0.016667</td>\n",
       "      <td>13.0</td>\n",
       "      <td>19.73550</td>\n",
       "      <td>0.658711</td>\n",
       "      <td>125.2989</td>\n",
       "      <td>0.157507</td>\n",
       "      <td>1.259534</td>\n",
       "      <td>0.682700</td>\n",
       "    </tr>\n",
       "    <tr>\n",
       "      <th>2</th>\n",
       "      <td>0.025000</td>\n",
       "      <td>16.0</td>\n",
       "      <td>29.60325</td>\n",
       "      <td>0.540481</td>\n",
       "      <td>125.2989</td>\n",
       "      <td>0.236261</td>\n",
       "      <td>0.839689</td>\n",
       "      <td>0.531766</td>\n",
       "    </tr>\n",
       "    <tr>\n",
       "      <th>3</th>\n",
       "      <td>0.033333</td>\n",
       "      <td>18.5</td>\n",
       "      <td>39.47100</td>\n",
       "      <td>0.468699</td>\n",
       "      <td>125.2989</td>\n",
       "      <td>0.315015</td>\n",
       "      <td>0.629767</td>\n",
       "      <td>0.431871</td>\n",
       "    </tr>\n",
       "    <tr>\n",
       "      <th>4</th>\n",
       "      <td>0.041667</td>\n",
       "      <td>20.5</td>\n",
       "      <td>49.33875</td>\n",
       "      <td>0.415495</td>\n",
       "      <td>125.2989</td>\n",
       "      <td>0.393768</td>\n",
       "      <td>0.503814</td>\n",
       "      <td>0.362324</td>\n",
       "    </tr>\n",
       "  </tbody>\n",
       "</table>\n",
       "</div>"
      ],
      "text/plain": [
       "    AirFlow  Q/dT      Cmin  Efficiency      Cmax        Cr       NTU  \\\n",
       "0  0.008333   8.0   9.86775    0.810722  125.2989  0.078754  2.519068   \n",
       "1  0.016667  13.0  19.73550    0.658711  125.2989  0.157507  1.259534   \n",
       "2  0.025000  16.0  29.60325    0.540481  125.2989  0.236261  0.839689   \n",
       "3  0.033333  18.5  39.47100    0.468699  125.2989  0.315015  0.629767   \n",
       "4  0.041667  20.5  49.33875    0.415495  125.2989  0.393768  0.503814   \n",
       "\n",
       "    EffiFit  \n",
       "0  0.902288  \n",
       "1  0.682700  \n",
       "2  0.531766  \n",
       "3  0.431871  \n",
       "4  0.362324  "
      ]
     },
     "execution_count": 6,
     "metadata": {},
     "output_type": "execute_result"
    }
   ],
   "source": [
    "import matplotlib.pyplot as plt \n",
    "\n",
    "df['NTU']=UA/df['Cmin']\n",
    "df['EffiFit']=efficiency(UA, df['Cmin'], df['Cr'])\n",
    "\n",
    "#Plot Reynolds number \n",
    "plt.plot(df['Cr'], df['Efficiency'], 'o-b', label='Data')\n",
    "plt.plot(df['Cr'], df['EffiFit'], 'o-r', label='Fit')\n",
    "plt.xlabel('Cr')\n",
    "plt.ylabel('$\\epsilon$')\n",
    "plt.ylim(0, 1)\n",
    "plt.grid()\n",
    "plt.legend()\n",
    "plt.show()\n",
    "\n",
    "df"
   ]
  },
  {
   "cell_type": "markdown",
   "metadata": {},
   "source": [
    "## 2. UA coefficient regression\n",
    "\n",
    "The process of obtaining the UA coefficient was carried out on a whole range of exchangers. These data will make it possible to obtain an estimation function of this parameter as a function of the main dimensions of the exchanger."
   ]
  },
  {
   "cell_type": "code",
   "execution_count": 7,
   "metadata": {},
   "outputs": [
    {
     "data": {
      "text/html": [
       "<div>\n",
       "<style scoped>\n",
       "    .dataframe tbody tr th:only-of-type {\n",
       "        vertical-align: middle;\n",
       "    }\n",
       "\n",
       "    .dataframe tbody tr th {\n",
       "        vertical-align: top;\n",
       "    }\n",
       "\n",
       "    .dataframe thead th {\n",
       "        text-align: right;\n",
       "    }\n",
       "</style>\n",
       "<table border=\"1\" class=\"dataframe\">\n",
       "  <thead>\n",
       "    <tr style=\"text-align: right;\">\n",
       "      <th></th>\n",
       "      <th>Power[W]</th>\n",
       "      <th>UA[W/K]</th>\n",
       "      <th>L[m]</th>\n",
       "      <th>W[m]</th>\n",
       "      <th>H[m]</th>\n",
       "      <th>Mass[kg]</th>\n",
       "      <th>Air DP/Q^2 [Pa/(m^3/s)²]</th>\n",
       "      <th>Water DP/Q^2 [Pa/(m^3/s)²]</th>\n",
       "      <th>Liquid volume[l]</th>\n",
       "    </tr>\n",
       "  </thead>\n",
       "  <tbody>\n",
       "    <tr>\n",
       "      <th>0</th>\n",
       "      <td>360</td>\n",
       "      <td>13.100</td>\n",
       "      <td>0.188</td>\n",
       "      <td>0.033</td>\n",
       "      <td>0.168</td>\n",
       "      <td>1.18</td>\n",
       "      <td>11250.000000</td>\n",
       "      <td>6.232687e+11</td>\n",
       "      <td>0.050</td>\n",
       "    </tr>\n",
       "    <tr>\n",
       "      <th>1</th>\n",
       "      <td>430</td>\n",
       "      <td>24.420</td>\n",
       "      <td>0.188</td>\n",
       "      <td>0.048</td>\n",
       "      <td>0.147</td>\n",
       "      <td>1.15</td>\n",
       "      <td>30000.000000</td>\n",
       "      <td>2.077562e+12</td>\n",
       "      <td>0.131</td>\n",
       "    </tr>\n",
       "    <tr>\n",
       "      <th>2</th>\n",
       "      <td>700</td>\n",
       "      <td>48.770</td>\n",
       "      <td>0.310</td>\n",
       "      <td>0.046</td>\n",
       "      <td>0.147</td>\n",
       "      <td>2.31</td>\n",
       "      <td>11250.000000</td>\n",
       "      <td>2.493075e+12</td>\n",
       "      <td>0.205</td>\n",
       "    </tr>\n",
       "    <tr>\n",
       "      <th>3</th>\n",
       "      <td>1230</td>\n",
       "      <td>69.917</td>\n",
       "      <td>0.301</td>\n",
       "      <td>0.064</td>\n",
       "      <td>0.229</td>\n",
       "      <td>2.99</td>\n",
       "      <td>4591.836735</td>\n",
       "      <td>3.739612e+12</td>\n",
       "      <td>0.288</td>\n",
       "    </tr>\n",
       "    <tr>\n",
       "      <th>4</th>\n",
       "      <td>2000</td>\n",
       "      <td>132.465</td>\n",
       "      <td>0.505</td>\n",
       "      <td>0.064</td>\n",
       "      <td>0.229</td>\n",
       "      <td>4.99</td>\n",
       "      <td>1434.948980</td>\n",
       "      <td>6.232687e+12</td>\n",
       "      <td>0.500</td>\n",
       "    </tr>\n",
       "  </tbody>\n",
       "</table>\n",
       "</div>"
      ],
      "text/plain": [
       "   Power[W]  UA[W/K]   L[m]   W[m]   H[m]   Mass[kg]  \\\n",
       "0       360   13.100  0.188  0.033  0.168       1.18   \n",
       "1       430   24.420  0.188  0.048  0.147       1.15   \n",
       "2       700   48.770  0.310  0.046  0.147       2.31   \n",
       "3      1230   69.917  0.301  0.064  0.229       2.99   \n",
       "4      2000  132.465  0.505  0.064  0.229       4.99   \n",
       "\n",
       "   Air DP/Q^2 [Pa/(m^3/s)²]  Water DP/Q^2 [Pa/(m^3/s)²]  Liquid volume[l]  \n",
       "0              11250.000000                6.232687e+11             0.050  \n",
       "1              30000.000000                2.077562e+12             0.131  \n",
       "2              11250.000000                2.493075e+12             0.205  \n",
       "3               4591.836735                3.739612e+12             0.288  \n",
       "4               1434.948980                6.232687e+12             0.500  "
      ]
     },
     "execution_count": 7,
     "metadata": {},
     "output_type": "execute_result"
    }
   ],
   "source": [
    "# Import Heat Exchanger data\n",
    "\n",
    "dHE = pd.read_excel('./07/BoydCopperTubeHE.xlsx')\n",
    "\n",
    "# Print the head (first lines of the file)\n",
    "dHE.head()"
   ]
  },
  {
   "cell_type": "markdown",
   "metadata": {},
   "source": [
    "> **Question**:  Set up the regression of these data on a power law of the form $UA=kL^aW^bH^c$."
   ]
  },
  {
   "cell_type": "code",
   "execution_count": 8,
   "metadata": {},
   "outputs": [
    {
     "name": "stdout",
     "output_type": "stream",
     "text": [
      "R² coefficient : 0.98\n",
      "The estimation function is: UA = 1.51e+04.L^1.41.W^1.05.H^0.51\n",
      "with UA in [W/K], W, H, L in [m]\n"
     ]
    }
   ],
   "source": [
    "# Determination of the least squares estimator with LinearRegression of sklearn\n",
    "\n",
    "from sklearn import linear_model\n",
    "\n",
    "# Generation of Y and X matrix\n",
    "YHE=np.log10(dHE['UA[W/K]'].values)\n",
    "YHE=YHE.reshape((np.size(YHE),1))\n",
    "XHE=np.transpose((np.log10(dHE['L[m]'].values), np.log10(dHE['W[m]'].values), np.log10(dHE['H[m]'].values) ))\n",
    "\n",
    "\n",
    "# OLS regression\n",
    "reg= linear_model.LinearRegression()\n",
    "reg.fit(XHE, YHE)\n",
    "\n",
    "# Results print\n",
    "print(\"R² coefficient : %.2f\"%reg.score(XHE, YHE))\n",
    "\n",
    "coef=reg.coef_.reshape(3)\n",
    "print('The estimation function is: UA = %.3g.L^%.2f.W^%3.2f.H^%3.2f'\n",
    "      %(10**reg.intercept_,coef[0],coef[1],coef[2]))\n",
    "print('with UA in [W/K], W, H, L in [m]')"
   ]
  },
  {
   "cell_type": "code",
   "execution_count": 9,
   "metadata": {},
   "outputs": [
    {
     "data": {
      "image/png": "[encoded data removed]",
      "text/plain": [
       "<Figure size 432x288 with 1 Axes>"
      ]
     },
     "metadata": {
      "needs_background": "light"
     },
     "output_type": "display_data"
    }
   ],
   "source": [
    "# Y vector prediction\n",
    "\n",
    "y_HE=10**(reg.predict(XHE))\n",
    "\n",
    "# plot the data \n",
    "#plt.plot(dHS['Rthn'].values,dHS['Rthn'].values, '-',dHS['Rthn'].values,y_HS, 'o')\n",
    "plt.plot(dHE['UA[W/K]'].values,dHE['UA[W/K]'].values, '-')\n",
    "plt.plot(dHE['UA[W/K]'].values,y_HE, 'x')\n",
    "plt.xlabel('Catalog data')\n",
    "plt.ylabel('Prediction')\n",
    "plt.title('UA coefficient (W/K)')\n",
    "plt.grid()\n",
    "plt.show()"
   ]
  },
  {
   "cell_type": "markdown",
   "metadata": {},
   "source": [
    "## 3. Pressure drop\n",
    "\n",
    "The selection of motors and pumps requires knowing the flow rate, depending on the flow of trawl to be transferred, and the pressure drops.\n",
    "\n",
    "### 3.1. Air side\n",
    "\n",
    "On the air side, the pressure drops are located at several levels:\n",
    "- at the level of the exchanger, they are characterized by a flow / pressure curve provided by the manufacturer\n",
    "\n",
    "*Air side pressure drop*  \n",
    "<img src=\"07/AirSidePressureDrop.png\" width=\"400\">\n",
    "\n",
    "- at the level of the air inlets and exhaust under the hood of the vehicle. These losses can be considered as [minor](https://www.engineeringtoolbox.com/air-duct-minor-loss-diagram-d_332.html) and can be expressed thanks coefficients depending of geometrical configurations. \n",
    "\n",
    "$Δp_{minor loss} = ξ p_d =  ξ \\frac{1}{2} ρ_f v^2$                                      \n",
    "\n",
    "where\n",
    "\n",
    "$ξ$ = minor loss coefficient\n",
    "\n",
    "$p_d$ = dynamic pressure in fluid flow (Pa)\n",
    "\n",
    "$Δp_{minor loss}$ = minor pressure loss (Pa)\n",
    "\n",
    "$ρ_f$ = density of fluid (kg/m3)\n",
    "\n",
    "$v$ = flow velocity (m/s)\n",
    "\n",
    "> **Question:** Propose, depending on the flow rate to be ensured and the geometry of the exchanger, the expression of the overall pressure drop to be compensated.\n"
   ]
  },
  {
   "cell_type": "markdown",
   "metadata": {},
   "source": [
    "**Answer :** On suppose l'ensemble des chutes de pression fonction quadratique du débit ou de la vitesse. \n",
    "Pour les pertes singulière on peut supposer une coefficient global ξ d'environ 4 avec 1.5 pour l'entrée et la sortie d'air et 1 pour un coude à 90°.   \n",
    "Pour les pertes de charges du dissipateur une regression des données catalogues permet d'obtenir une expression de la forme: \n",
    "$\\frac{Δp}{Q^2}=10^{3.29}L^{-2.34}W^{1.67}H^{-1.98}$ "
   ]
  },
  {
   "cell_type": "markdown",
   "metadata": {},
   "source": [
    "### 3.2. Water side\n",
    "\n",
    "On the water side, different fluid flow patterns can be observed with very different pressure drop levels.\n",
    "\n",
    "*2 different tube configurations*  \n",
    "<img src=\"07/TubeConfig.png\" width=\"600\">\n",
    "\n",
    "> **Question:** Propose a design hypothesis to simplify the calculations for the preliminary sizing.\n"
   ]
  },
  {
   "cell_type": "markdown",
   "metadata": {},
   "source": [
    "**Answer :** On voit que la configuration de type \"parallèle\" réduit de manière significative les chutes de pression. On supposera pour la suite que nous sommes dans cete configuration et que la chute de pression dans l'échanguer sera négligeable par rapport à celle du reste du circuit liquide (plaque froide et réseau de tubes). "
   ]
  },
  {
   "cell_type": "markdown",
   "metadata": {},
   "source": [
    "## 4. Heat exchanger mass and liquid volume\n",
    "\n",
    "The exchanger masses and the fluid volume present in the exchanger will be useful for optimizing the overall system and for setting up transient simulations.\n",
    "\n",
    "> **Question:** Use excel file data to set up estimaation laws for mass of exchanger and volume of liquid. [Correlation analysis](https://pandas.pydata.org/pandas-docs/stable/reference/api/pandas.DataFrame.corr.html) and [graphical matrix](https://datatofish.com/correlation-matrix-pandas/) representation can be usefull in order to select the most influencing inputs.\n",
    "\n"
   ]
  },
  {
   "cell_type": "markdown",
   "metadata": {},
   "source": [
    "**Answer:** L'analyse de correlation réalisée ici sous excel permet d'envisager de relier la masse et le volume au coefficient UA. Par regression on obtient\n",
    "\n",
    "$Volume=0.0052(UA)^{0.9512}$ avec le volume en l  \n",
    "$Mass = 0.12(UA)^{0.793}$ avec la masse en kg"
   ]
  },
  {
   "cell_type": "code",
   "execution_count": 10,
   "metadata": {},
   "outputs": [
    {
     "data": {
      "text/html": [
       "<div>\n",
       "<style scoped>\n",
       "    .dataframe tbody tr th:only-of-type {\n",
       "        vertical-align: middle;\n",
       "    }\n",
       "\n",
       "    .dataframe tbody tr th {\n",
       "        vertical-align: top;\n",
       "    }\n",
       "\n",
       "    .dataframe thead th {\n",
       "        text-align: right;\n",
       "    }\n",
       "</style>\n",
       "<table border=\"1\" class=\"dataframe\">\n",
       "  <thead>\n",
       "    <tr style=\"text-align: right;\">\n",
       "      <th></th>\n",
       "      <th>Power[W]</th>\n",
       "      <th>UA[W/K]</th>\n",
       "      <th>L[m]</th>\n",
       "      <th>W[m]</th>\n",
       "      <th>H[m]</th>\n",
       "      <th>Mass[kg]</th>\n",
       "      <th>Air DP/Q^2 [Pa/(m^3/s)²]</th>\n",
       "      <th>Water DP/Q^2 [Pa/(m^3/s)²]</th>\n",
       "      <th>Liquid volume[l]</th>\n",
       "    </tr>\n",
       "  </thead>\n",
       "  <tbody>\n",
       "    <tr>\n",
       "      <th>Power[W]</th>\n",
       "      <td>1.000000</td>\n",
       "      <td>0.986381</td>\n",
       "      <td>0.941340</td>\n",
       "      <td>0.848500</td>\n",
       "      <td>0.945061</td>\n",
       "      <td>0.990271</td>\n",
       "      <td>-0.953673</td>\n",
       "      <td>-0.480353</td>\n",
       "      <td>0.975993</td>\n",
       "    </tr>\n",
       "    <tr>\n",
       "      <th>UA[W/K]</th>\n",
       "      <td>0.986381</td>\n",
       "      <td>1.000000</td>\n",
       "      <td>0.962802</td>\n",
       "      <td>0.878215</td>\n",
       "      <td>0.887230</td>\n",
       "      <td>0.969605</td>\n",
       "      <td>-0.920513</td>\n",
       "      <td>-0.403554</td>\n",
       "      <td>0.993063</td>\n",
       "    </tr>\n",
       "    <tr>\n",
       "      <th>L[m]</th>\n",
       "      <td>0.941340</td>\n",
       "      <td>0.962802</td>\n",
       "      <td>1.000000</td>\n",
       "      <td>0.772193</td>\n",
       "      <td>0.811614</td>\n",
       "      <td>0.930170</td>\n",
       "      <td>-0.938896</td>\n",
       "      <td>-0.328671</td>\n",
       "      <td>0.938087</td>\n",
       "    </tr>\n",
       "    <tr>\n",
       "      <th>W[m]</th>\n",
       "      <td>0.848500</td>\n",
       "      <td>0.878215</td>\n",
       "      <td>0.772193</td>\n",
       "      <td>1.000000</td>\n",
       "      <td>0.770733</td>\n",
       "      <td>0.782452</td>\n",
       "      <td>-0.684143</td>\n",
       "      <td>-0.321649</td>\n",
       "      <td>0.871874</td>\n",
       "    </tr>\n",
       "    <tr>\n",
       "      <th>H[m]</th>\n",
       "      <td>0.945061</td>\n",
       "      <td>0.887230</td>\n",
       "      <td>0.811614</td>\n",
       "      <td>0.770733</td>\n",
       "      <td>1.000000</td>\n",
       "      <td>0.934628</td>\n",
       "      <td>-0.910702</td>\n",
       "      <td>-0.685718</td>\n",
       "      <td>0.870224</td>\n",
       "    </tr>\n",
       "    <tr>\n",
       "      <th>Mass[kg]</th>\n",
       "      <td>0.990271</td>\n",
       "      <td>0.969605</td>\n",
       "      <td>0.930170</td>\n",
       "      <td>0.782452</td>\n",
       "      <td>0.934628</td>\n",
       "      <td>1.000000</td>\n",
       "      <td>-0.958191</td>\n",
       "      <td>-0.480861</td>\n",
       "      <td>0.962425</td>\n",
       "    </tr>\n",
       "    <tr>\n",
       "      <th>Air DP/Q^2 [Pa/(m^3/s)²]</th>\n",
       "      <td>-0.953673</td>\n",
       "      <td>-0.920513</td>\n",
       "      <td>-0.938896</td>\n",
       "      <td>-0.684143</td>\n",
       "      <td>-0.910702</td>\n",
       "      <td>-0.958191</td>\n",
       "      <td>1.000000</td>\n",
       "      <td>0.441339</td>\n",
       "      <td>-0.897433</td>\n",
       "    </tr>\n",
       "    <tr>\n",
       "      <th>Water DP/Q^2 [Pa/(m^3/s)²]</th>\n",
       "      <td>-0.480353</td>\n",
       "      <td>-0.403554</td>\n",
       "      <td>-0.328671</td>\n",
       "      <td>-0.321649</td>\n",
       "      <td>-0.685718</td>\n",
       "      <td>-0.480861</td>\n",
       "      <td>0.441339</td>\n",
       "      <td>1.000000</td>\n",
       "      <td>-0.372002</td>\n",
       "    </tr>\n",
       "    <tr>\n",
       "      <th>Liquid volume[l]</th>\n",
       "      <td>0.975993</td>\n",
       "      <td>0.993063</td>\n",
       "      <td>0.938087</td>\n",
       "      <td>0.871874</td>\n",
       "      <td>0.870224</td>\n",
       "      <td>0.962425</td>\n",
       "      <td>-0.897433</td>\n",
       "      <td>-0.372002</td>\n",
       "      <td>1.000000</td>\n",
       "    </tr>\n",
       "  </tbody>\n",
       "</table>\n",
       "</div>"
      ],
      "text/plain": [
       "                            Power[W]   UA[W/K]      L[m]      W[m]      H[m]  \\\n",
       "Power[W]                    1.000000  0.986381  0.941340  0.848500  0.945061   \n",
       "UA[W/K]                     0.986381  1.000000  0.962802  0.878215  0.887230   \n",
       "L[m]                        0.941340  0.962802  1.000000  0.772193  0.811614   \n",
       "W[m]                        0.848500  0.878215  0.772193  1.000000  0.770733   \n",
       "H[m]                        0.945061  0.887230  0.811614  0.770733  1.000000   \n",
       " Mass[kg]                   0.990271  0.969605  0.930170  0.782452  0.934628   \n",
       "Air DP/Q^2 [Pa/(m^3/s)²]   -0.953673 -0.920513 -0.938896 -0.684143 -0.910702   \n",
       "Water DP/Q^2 [Pa/(m^3/s)²] -0.480353 -0.403554 -0.328671 -0.321649 -0.685718   \n",
       "Liquid volume[l]            0.975993  0.993063  0.938087  0.871874  0.870224   \n",
       "\n",
       "                             Mass[kg]  Air DP/Q^2 [Pa/(m^3/s)²]  \\\n",
       "Power[W]                     0.990271                 -0.953673   \n",
       "UA[W/K]                      0.969605                 -0.920513   \n",
       "L[m]                         0.930170                 -0.938896   \n",
       "W[m]                         0.782452                 -0.684143   \n",
       "H[m]                         0.934628                 -0.910702   \n",
       " Mass[kg]                    1.000000                 -0.958191   \n",
       "Air DP/Q^2 [Pa/(m^3/s)²]    -0.958191                  1.000000   \n",
       "Water DP/Q^2 [Pa/(m^3/s)²]  -0.480861                  0.441339   \n",
       "Liquid volume[l]             0.962425                 -0.897433   \n",
       "\n",
       "                            Water DP/Q^2 [Pa/(m^3/s)²]  Liquid volume[l]  \n",
       "Power[W]                                     -0.480353          0.975993  \n",
       "UA[W/K]                                      -0.403554          0.993063  \n",
       "L[m]                                         -0.328671          0.938087  \n",
       "W[m]                                         -0.321649          0.871874  \n",
       "H[m]                                         -0.685718          0.870224  \n",
       " Mass[kg]                                    -0.480861          0.962425  \n",
       "Air DP/Q^2 [Pa/(m^3/s)²]                      0.441339         -0.897433  \n",
       "Water DP/Q^2 [Pa/(m^3/s)²]                    1.000000         -0.372002  \n",
       "Liquid volume[l]                             -0.372002          1.000000  "
      ]
     },
     "execution_count": 10,
     "metadata": {},
     "output_type": "execute_result"
    }
   ],
   "source": [
    "# log transformation of the data\n",
    "dHElog=pd.DataFrame(data=np.log10(dHE.values), columns=dHE.columns)\n",
    "\n",
    "dHElog.corr()"
   ]
  },
  {
   "cell_type": "code",
   "execution_count": 11,
   "metadata": {},
   "outputs": [
    {
     "data": {
      "image/png": "[encoded data removed]",
      "text/plain": [
       "<Figure size 432x288 with 2 Axes>"
      ]
     },
     "metadata": {
      "needs_background": "light"
     },
     "output_type": "display_data"
    }
   ],
   "source": [
    "# Correlation matrix\n",
    "import seaborn as sn\n",
    "\n",
    "dHE= pd.read_excel('./07/BoydCopperTubeHE.xlsx')\n",
    "\n",
    "dHE = np.log10(dHE)\n",
    "Matrice = dHE.corr()\n",
    "\n",
    "sn.heatmap(Matrice, annot = True)\n",
    "\n",
    "plt.show()"
   ]
  },
  {
   "cell_type": "markdown",
   "metadata": {},
   "source": [
    "## References\n",
    "\n",
    "> - Tojcic, S. (2017). *Effects of Heat Transfer on Vehicle Front-end Cooling Airflow Simulation*, Master of Applied Science Thesis, University of Windsor. [Link](https://scholar.uwindsor.ca/cgi/viewcontent.cgi?article=6956&context=etd)  \n",
    "> - Kim, H. J., & Kim, C. (2008). *A numerical analysis for the cooling module related to automobile air-conditioning system. Applied Thermal Engineering*, 28(14-15), 1896-1905. [DOI](doi:10.1016/j.applthermaleng.2007.12.002)\n",
    "> - Lu, P., Gao, Q., & Wang, Y. (2016). *The simulation methods based on 1D/3D collaborative computing for the vehicle integrated thermal management*. Applied Thermal Engineering,104, 42-53. [DOI](doi:10.1016/j.applthermaleng.2016.05.047)\n",
    "> - Budinger, M., Hazyuk, I., & Coïc, C. (2019). *Multi-physics Modeling of Technological Systems*. ISTE Limited."
   ]
  },
  {
   "cell_type": "code",
   "execution_count": null,
   "metadata": {},
   "outputs": [],
   "source": []
  }
 ],
 "metadata": {
  "kernelspec": {
   "display_name": "Python 3",
   "language": "python",
   "name": "python3"
  },
  "language_info": {
   "codemirror_mode": {
    "name": "ipython",
    "version": 3
   },
   "file_extension": ".py",
   "mimetype": "text/x-python",
   "name": "python",
   "nbconvert_exporter": "python",
   "pygments_lexer": "ipython3",
   "version": "3.8.3"
  }
 },
 "nbformat": 4,
 "nbformat_minor": 4
}
